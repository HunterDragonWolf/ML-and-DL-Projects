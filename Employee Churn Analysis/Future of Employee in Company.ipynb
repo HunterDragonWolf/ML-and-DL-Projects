{
 "cells": [
  {
   "cell_type": "markdown",
   "metadata": {},
   "source": [
    "## Importing initial libraries and reading the data"
   ]
  },
  {
   "cell_type": "markdown",
   "metadata": {},
   "source": [
    "   "
   ]
  },
  {
   "cell_type": "code",
   "execution_count": 1,
   "metadata": {},
   "outputs": [],
   "source": [
    "import matplotlib.pyplot as plt\n",
    "import pandas as pd\n",
    "import numpy as np\n",
    "import warnings\n",
    "warnings. filterwarnings('ignore')"
   ]
  },
  {
   "cell_type": "code",
   "execution_count": 2,
   "metadata": {},
   "outputs": [
    {
     "data": {
      "text/plain": [
       "'1.0.5'"
      ]
     },
     "execution_count": 2,
     "metadata": {},
     "output_type": "execute_result"
    }
   ],
   "source": [
    "pd.__version__"
   ]
  },
  {
   "cell_type": "code",
   "execution_count": 3,
   "metadata": {
    "scrolled": true
   },
   "outputs": [
    {
     "data": {
      "text/plain": [
       "'1.22.3'"
      ]
     },
     "execution_count": 3,
     "metadata": {},
     "output_type": "execute_result"
    }
   ],
   "source": [
    "np.__version__"
   ]
  },
  {
   "cell_type": "code",
   "execution_count": 4,
   "metadata": {},
   "outputs": [],
   "source": [
    "df = pd.read_csv('Employee-turnover.csv')"
   ]
  },
  {
   "cell_type": "code",
   "execution_count": 5,
   "metadata": {
    "scrolled": true
   },
   "outputs": [
    {
     "data": {
      "text/html": [
       "<div>\n",
       "<style scoped>\n",
       "    .dataframe tbody tr th:only-of-type {\n",
       "        vertical-align: middle;\n",
       "    }\n",
       "\n",
       "    .dataframe tbody tr th {\n",
       "        vertical-align: top;\n",
       "    }\n",
       "\n",
       "    .dataframe thead th {\n",
       "        text-align: right;\n",
       "    }\n",
       "</style>\n",
       "<table border=\"1\" class=\"dataframe\">\n",
       "  <thead>\n",
       "    <tr style=\"text-align: right;\">\n",
       "      <th></th>\n",
       "      <th>Employee Count</th>\n",
       "      <th>Employee ID</th>\n",
       "      <th>Department</th>\n",
       "      <th>Job Role</th>\n",
       "      <th>Gender</th>\n",
       "      <th>Age</th>\n",
       "      <th>Marital Status</th>\n",
       "      <th>Education</th>\n",
       "      <th>Education Field</th>\n",
       "      <th>Business Travel</th>\n",
       "      <th>...</th>\n",
       "      <th>Total Working Years</th>\n",
       "      <th>Years At Company</th>\n",
       "      <th>Years In Current Role</th>\n",
       "      <th>Years Since Last Promotion</th>\n",
       "      <th>Years With Curr Manager</th>\n",
       "      <th>Environment Satisfaction</th>\n",
       "      <th>Training Times Last Year</th>\n",
       "      <th>Work Life Balance</th>\n",
       "      <th>Relationship Satisfaction</th>\n",
       "      <th>Attrition (Yes/No)</th>\n",
       "    </tr>\n",
       "  </thead>\n",
       "  <tbody>\n",
       "    <tr>\n",
       "      <th>0</th>\n",
       "      <td>1</td>\n",
       "      <td>1</td>\n",
       "      <td>Sales</td>\n",
       "      <td>Sales Executive</td>\n",
       "      <td>Female</td>\n",
       "      <td>41</td>\n",
       "      <td>Single</td>\n",
       "      <td>College</td>\n",
       "      <td>Life Sciences</td>\n",
       "      <td>Travel_Rarely</td>\n",
       "      <td>...</td>\n",
       "      <td>8</td>\n",
       "      <td>6</td>\n",
       "      <td>4</td>\n",
       "      <td>0</td>\n",
       "      <td>5</td>\n",
       "      <td>Medium</td>\n",
       "      <td>0</td>\n",
       "      <td>Bad</td>\n",
       "      <td>Low</td>\n",
       "      <td>Yes</td>\n",
       "    </tr>\n",
       "    <tr>\n",
       "      <th>1</th>\n",
       "      <td>1</td>\n",
       "      <td>2</td>\n",
       "      <td>Research &amp; Development</td>\n",
       "      <td>Research Scientist</td>\n",
       "      <td>Male</td>\n",
       "      <td>49</td>\n",
       "      <td>Married</td>\n",
       "      <td>Below College</td>\n",
       "      <td>Life Sciences</td>\n",
       "      <td>Travel_Frequently</td>\n",
       "      <td>...</td>\n",
       "      <td>10</td>\n",
       "      <td>10</td>\n",
       "      <td>7</td>\n",
       "      <td>1</td>\n",
       "      <td>7</td>\n",
       "      <td>High</td>\n",
       "      <td>3</td>\n",
       "      <td>Better</td>\n",
       "      <td>Very High</td>\n",
       "      <td>No</td>\n",
       "    </tr>\n",
       "    <tr>\n",
       "      <th>2</th>\n",
       "      <td>1</td>\n",
       "      <td>4</td>\n",
       "      <td>Research &amp; Development</td>\n",
       "      <td>Laboratory Technician</td>\n",
       "      <td>Male</td>\n",
       "      <td>37</td>\n",
       "      <td>Single</td>\n",
       "      <td>College</td>\n",
       "      <td>Other</td>\n",
       "      <td>Travel_Rarely</td>\n",
       "      <td>...</td>\n",
       "      <td>7</td>\n",
       "      <td>0</td>\n",
       "      <td>0</td>\n",
       "      <td>0</td>\n",
       "      <td>0</td>\n",
       "      <td>Low</td>\n",
       "      <td>3</td>\n",
       "      <td>Bad</td>\n",
       "      <td>Medium</td>\n",
       "      <td>Yes</td>\n",
       "    </tr>\n",
       "    <tr>\n",
       "      <th>3</th>\n",
       "      <td>1</td>\n",
       "      <td>5</td>\n",
       "      <td>Research &amp; Development</td>\n",
       "      <td>Research Scientist</td>\n",
       "      <td>Female</td>\n",
       "      <td>33</td>\n",
       "      <td>Married</td>\n",
       "      <td>Master</td>\n",
       "      <td>Life Sciences</td>\n",
       "      <td>Travel_Frequently</td>\n",
       "      <td>...</td>\n",
       "      <td>8</td>\n",
       "      <td>8</td>\n",
       "      <td>7</td>\n",
       "      <td>3</td>\n",
       "      <td>0</td>\n",
       "      <td>Very High</td>\n",
       "      <td>3</td>\n",
       "      <td>Better</td>\n",
       "      <td>High</td>\n",
       "      <td>No</td>\n",
       "    </tr>\n",
       "    <tr>\n",
       "      <th>4</th>\n",
       "      <td>1</td>\n",
       "      <td>7</td>\n",
       "      <td>Research &amp; Development</td>\n",
       "      <td>Laboratory Technician</td>\n",
       "      <td>Male</td>\n",
       "      <td>27</td>\n",
       "      <td>Married</td>\n",
       "      <td>Below College</td>\n",
       "      <td>Medical</td>\n",
       "      <td>Travel_Rarely</td>\n",
       "      <td>...</td>\n",
       "      <td>6</td>\n",
       "      <td>2</td>\n",
       "      <td>2</td>\n",
       "      <td>2</td>\n",
       "      <td>2</td>\n",
       "      <td>Low</td>\n",
       "      <td>3</td>\n",
       "      <td>Better</td>\n",
       "      <td>Very High</td>\n",
       "      <td>No</td>\n",
       "    </tr>\n",
       "  </tbody>\n",
       "</table>\n",
       "<p>5 rows × 29 columns</p>\n",
       "</div>"
      ],
      "text/plain": [
       "   Employee Count  Employee ID              Department               Job Role  \\\n",
       "0               1            1                   Sales        Sales Executive   \n",
       "1               1            2  Research & Development     Research Scientist   \n",
       "2               1            4  Research & Development  Laboratory Technician   \n",
       "3               1            5  Research & Development     Research Scientist   \n",
       "4               1            7  Research & Development  Laboratory Technician   \n",
       "\n",
       "   Gender  Age Marital Status      Education Education Field  \\\n",
       "0  Female   41         Single        College   Life Sciences   \n",
       "1    Male   49        Married  Below College   Life Sciences   \n",
       "2    Male   37         Single        College           Other   \n",
       "3  Female   33        Married         Master   Life Sciences   \n",
       "4    Male   27        Married  Below College         Medical   \n",
       "\n",
       "     Business Travel  ...  Total Working Years Years At Company  \\\n",
       "0      Travel_Rarely  ...                    8                6   \n",
       "1  Travel_Frequently  ...                   10               10   \n",
       "2      Travel_Rarely  ...                    7                0   \n",
       "3  Travel_Frequently  ...                    8                8   \n",
       "4      Travel_Rarely  ...                    6                2   \n",
       "\n",
       "   Years In Current Role Years Since Last Promotion  Years With Curr Manager  \\\n",
       "0                      4                          0                        5   \n",
       "1                      7                          1                        7   \n",
       "2                      0                          0                        0   \n",
       "3                      7                          3                        0   \n",
       "4                      2                          2                        2   \n",
       "\n",
       "   Environment Satisfaction  Training Times Last Year Work Life Balance  \\\n",
       "0                    Medium                         0               Bad   \n",
       "1                      High                         3            Better   \n",
       "2                       Low                         3               Bad   \n",
       "3                 Very High                         3            Better   \n",
       "4                       Low                         3            Better   \n",
       "\n",
       "   Relationship Satisfaction  Attrition (Yes/No)  \n",
       "0                        Low                 Yes  \n",
       "1                  Very High                  No  \n",
       "2                     Medium                 Yes  \n",
       "3                       High                  No  \n",
       "4                  Very High                  No  \n",
       "\n",
       "[5 rows x 29 columns]"
      ]
     },
     "execution_count": 5,
     "metadata": {},
     "output_type": "execute_result"
    }
   ],
   "source": [
    "df.head()"
   ]
  },
  {
   "cell_type": "code",
   "execution_count": 6,
   "metadata": {
    "scrolled": true
   },
   "outputs": [
    {
     "data": {
      "text/plain": [
       "(1470, 29)"
      ]
     },
     "execution_count": 6,
     "metadata": {},
     "output_type": "execute_result"
    }
   ],
   "source": [
    "df.shape"
   ]
  },
  {
   "cell_type": "markdown",
   "metadata": {},
   "source": [
    "   "
   ]
  },
  {
   "cell_type": "markdown",
   "metadata": {},
   "source": [
    "## Data Preprocessing"
   ]
  },
  {
   "cell_type": "markdown",
   "metadata": {},
   "source": [
    "   "
   ]
  },
  {
   "cell_type": "code",
   "execution_count": 7,
   "metadata": {
    "scrolled": false
   },
   "outputs": [
    {
     "data": {
      "text/plain": [
       "Employee Count                0\n",
       "Employee ID                   0\n",
       "Department                    0\n",
       "Job Role                      0\n",
       "Gender                        0\n",
       "Age                           0\n",
       "Marital Status                0\n",
       "Education                     0\n",
       "Education Field               0\n",
       "Business Travel               0\n",
       "Distance From Home (kms)      0\n",
       "Job Involvement               0\n",
       "Job Level                     0\n",
       "Job Satisfaction              0\n",
       "Monthly Income (USD)          0\n",
       "Salary Hike (%)               0\n",
       "Stock Option Level            0\n",
       "Over Time                     0\n",
       "No. of Companies Worked       0\n",
       "Total Working Years           0\n",
       "Years At Company              0\n",
       "Years In Current Role         0\n",
       "Years Since Last Promotion    0\n",
       "Years With Curr Manager       0\n",
       "Environment Satisfaction      0\n",
       "Training Times Last Year      0\n",
       "Work Life Balance             0\n",
       "Relationship Satisfaction     0\n",
       "Attrition (Yes/No)            0\n",
       "dtype: int64"
      ]
     },
     "execution_count": 7,
     "metadata": {},
     "output_type": "execute_result"
    }
   ],
   "source": [
    "df.isnull().sum()"
   ]
  },
  {
   "cell_type": "code",
   "execution_count": 8,
   "metadata": {
    "scrolled": true
   },
   "outputs": [
    {
     "data": {
      "text/plain": [
       "0       False\n",
       "1       False\n",
       "2       False\n",
       "3       False\n",
       "4       False\n",
       "        ...  \n",
       "1465    False\n",
       "1466    False\n",
       "1467    False\n",
       "1468    False\n",
       "1469    False\n",
       "Length: 1470, dtype: bool"
      ]
     },
     "execution_count": 8,
     "metadata": {},
     "output_type": "execute_result"
    }
   ],
   "source": [
    "df.duplicated()"
   ]
  },
  {
   "cell_type": "code",
   "execution_count": 9,
   "metadata": {},
   "outputs": [],
   "source": [
    "from sklearn.preprocessing import LabelEncoder\n",
    "from sklearn import preprocessing"
   ]
  },
  {
   "cell_type": "code",
   "execution_count": 10,
   "metadata": {},
   "outputs": [],
   "source": [
    "label_encoder = preprocessing.LabelEncoder()"
   ]
  },
  {
   "cell_type": "code",
   "execution_count": 11,
   "metadata": {},
   "outputs": [],
   "source": [
    "df['DEPARTMENT'] = label_encoder.fit_transform(df['Department'])"
   ]
  },
  {
   "cell_type": "code",
   "execution_count": 12,
   "metadata": {
    "scrolled": true
   },
   "outputs": [],
   "source": [
    "df['JOB_ROLE'] = label_encoder.fit_transform(df['Job Role'])"
   ]
  },
  {
   "cell_type": "code",
   "execution_count": 13,
   "metadata": {},
   "outputs": [],
   "source": [
    "df['GENDER'] = label_encoder.fit_transform(df['Gender'])"
   ]
  },
  {
   "cell_type": "code",
   "execution_count": 14,
   "metadata": {},
   "outputs": [],
   "source": [
    "df['MARITAL_STATUS'] = label_encoder.fit_transform(df['Marital Status'])"
   ]
  },
  {
   "cell_type": "code",
   "execution_count": 15,
   "metadata": {},
   "outputs": [],
   "source": [
    "df['EDUCATION'] = label_encoder.fit_transform(df['Education'])"
   ]
  },
  {
   "cell_type": "code",
   "execution_count": 16,
   "metadata": {},
   "outputs": [],
   "source": [
    "df['EDUCATION_FIELD'] = label_encoder.fit_transform(df['Education Field'])"
   ]
  },
  {
   "cell_type": "code",
   "execution_count": 17,
   "metadata": {},
   "outputs": [],
   "source": [
    "df['BUSINESS_TRAVEL'] = label_encoder.fit_transform(df['Business Travel'])"
   ]
  },
  {
   "cell_type": "code",
   "execution_count": 18,
   "metadata": {},
   "outputs": [],
   "source": [
    "df['OVER_TIME'] = label_encoder.fit_transform(df['Over Time'])"
   ]
  },
  {
   "cell_type": "code",
   "execution_count": 19,
   "metadata": {},
   "outputs": [],
   "source": [
    "df['JOB_INVOLVEMENT'] = label_encoder.fit_transform(df['Job Involvement'])"
   ]
  },
  {
   "cell_type": "code",
   "execution_count": 20,
   "metadata": {},
   "outputs": [],
   "source": [
    "df['JOB_SATISFACTION'] = label_encoder.fit_transform(df['Job Satisfaction'])"
   ]
  },
  {
   "cell_type": "code",
   "execution_count": 21,
   "metadata": {},
   "outputs": [],
   "source": [
    "df['ENVIRONMENT_SATISFACTION'] = label_encoder.fit_transform(df['Environment Satisfaction'])"
   ]
  },
  {
   "cell_type": "code",
   "execution_count": 22,
   "metadata": {},
   "outputs": [],
   "source": [
    "df['WORK_LIFE_BALANCE'] = label_encoder.fit_transform(df['Work Life Balance'])"
   ]
  },
  {
   "cell_type": "code",
   "execution_count": 23,
   "metadata": {},
   "outputs": [],
   "source": [
    "df['RELATIONSHIP_SATISFACTION'] = label_encoder.fit_transform(df['Relationship Satisfaction'])"
   ]
  },
  {
   "cell_type": "code",
   "execution_count": 24,
   "metadata": {},
   "outputs": [],
   "source": [
    "df['ATTRITION'] = label_encoder.fit_transform(df['Attrition (Yes/No)'])"
   ]
  },
  {
   "cell_type": "code",
   "execution_count": 25,
   "metadata": {},
   "outputs": [],
   "source": [
    "DF_NEW = df.drop(['Employee Count', 'Department', 'Job Role', 'Gender', 'Marital Status', 'Education', 'Education Field', 'Business Travel', 'Over Time', 'Job Involvement', 'Job Satisfaction', 'Environment Satisfaction', 'Work Life Balance', 'Relationship Satisfaction', 'Attrition (Yes/No)'], axis=1)"
   ]
  },
  {
   "cell_type": "code",
   "execution_count": 26,
   "metadata": {},
   "outputs": [
    {
     "data": {
      "text/html": [
       "<div>\n",
       "<style scoped>\n",
       "    .dataframe tbody tr th:only-of-type {\n",
       "        vertical-align: middle;\n",
       "    }\n",
       "\n",
       "    .dataframe tbody tr th {\n",
       "        vertical-align: top;\n",
       "    }\n",
       "\n",
       "    .dataframe thead th {\n",
       "        text-align: right;\n",
       "    }\n",
       "</style>\n",
       "<table border=\"1\" class=\"dataframe\">\n",
       "  <thead>\n",
       "    <tr style=\"text-align: right;\">\n",
       "      <th></th>\n",
       "      <th>Employee ID</th>\n",
       "      <th>Age</th>\n",
       "      <th>Distance From Home (kms)</th>\n",
       "      <th>Job Level</th>\n",
       "      <th>Monthly Income (USD)</th>\n",
       "      <th>Salary Hike (%)</th>\n",
       "      <th>Stock Option Level</th>\n",
       "      <th>No. of Companies Worked</th>\n",
       "      <th>Total Working Years</th>\n",
       "      <th>Years At Company</th>\n",
       "      <th>...</th>\n",
       "      <th>EDUCATION</th>\n",
       "      <th>EDUCATION_FIELD</th>\n",
       "      <th>BUSINESS_TRAVEL</th>\n",
       "      <th>OVER_TIME</th>\n",
       "      <th>JOB_INVOLVEMENT</th>\n",
       "      <th>JOB_SATISFACTION</th>\n",
       "      <th>ENVIRONMENT_SATISFACTION</th>\n",
       "      <th>WORK_LIFE_BALANCE</th>\n",
       "      <th>RELATIONSHIP_SATISFACTION</th>\n",
       "      <th>ATTRITION</th>\n",
       "    </tr>\n",
       "  </thead>\n",
       "  <tbody>\n",
       "    <tr>\n",
       "      <th>0</th>\n",
       "      <td>1</td>\n",
       "      <td>41</td>\n",
       "      <td>1</td>\n",
       "      <td>2</td>\n",
       "      <td>5993</td>\n",
       "      <td>11</td>\n",
       "      <td>0</td>\n",
       "      <td>2</td>\n",
       "      <td>8</td>\n",
       "      <td>6</td>\n",
       "      <td>...</td>\n",
       "      <td>2</td>\n",
       "      <td>1</td>\n",
       "      <td>2</td>\n",
       "      <td>1</td>\n",
       "      <td>0</td>\n",
       "      <td>3</td>\n",
       "      <td>2</td>\n",
       "      <td>0</td>\n",
       "      <td>1</td>\n",
       "      <td>1</td>\n",
       "    </tr>\n",
       "    <tr>\n",
       "      <th>1</th>\n",
       "      <td>2</td>\n",
       "      <td>49</td>\n",
       "      <td>8</td>\n",
       "      <td>2</td>\n",
       "      <td>5130</td>\n",
       "      <td>23</td>\n",
       "      <td>1</td>\n",
       "      <td>1</td>\n",
       "      <td>10</td>\n",
       "      <td>10</td>\n",
       "      <td>...</td>\n",
       "      <td>1</td>\n",
       "      <td>1</td>\n",
       "      <td>1</td>\n",
       "      <td>0</td>\n",
       "      <td>2</td>\n",
       "      <td>2</td>\n",
       "      <td>0</td>\n",
       "      <td>2</td>\n",
       "      <td>3</td>\n",
       "      <td>0</td>\n",
       "    </tr>\n",
       "    <tr>\n",
       "      <th>2</th>\n",
       "      <td>4</td>\n",
       "      <td>37</td>\n",
       "      <td>2</td>\n",
       "      <td>1</td>\n",
       "      <td>2090</td>\n",
       "      <td>15</td>\n",
       "      <td>0</td>\n",
       "      <td>6</td>\n",
       "      <td>7</td>\n",
       "      <td>0</td>\n",
       "      <td>...</td>\n",
       "      <td>2</td>\n",
       "      <td>4</td>\n",
       "      <td>2</td>\n",
       "      <td>1</td>\n",
       "      <td>2</td>\n",
       "      <td>0</td>\n",
       "      <td>1</td>\n",
       "      <td>0</td>\n",
       "      <td>2</td>\n",
       "      <td>1</td>\n",
       "    </tr>\n",
       "    <tr>\n",
       "      <th>3</th>\n",
       "      <td>5</td>\n",
       "      <td>33</td>\n",
       "      <td>3</td>\n",
       "      <td>1</td>\n",
       "      <td>2909</td>\n",
       "      <td>11</td>\n",
       "      <td>0</td>\n",
       "      <td>1</td>\n",
       "      <td>8</td>\n",
       "      <td>8</td>\n",
       "      <td>...</td>\n",
       "      <td>4</td>\n",
       "      <td>1</td>\n",
       "      <td>1</td>\n",
       "      <td>1</td>\n",
       "      <td>0</td>\n",
       "      <td>0</td>\n",
       "      <td>3</td>\n",
       "      <td>2</td>\n",
       "      <td>0</td>\n",
       "      <td>0</td>\n",
       "    </tr>\n",
       "    <tr>\n",
       "      <th>4</th>\n",
       "      <td>7</td>\n",
       "      <td>27</td>\n",
       "      <td>2</td>\n",
       "      <td>1</td>\n",
       "      <td>3468</td>\n",
       "      <td>12</td>\n",
       "      <td>1</td>\n",
       "      <td>9</td>\n",
       "      <td>6</td>\n",
       "      <td>2</td>\n",
       "      <td>...</td>\n",
       "      <td>1</td>\n",
       "      <td>3</td>\n",
       "      <td>2</td>\n",
       "      <td>0</td>\n",
       "      <td>0</td>\n",
       "      <td>2</td>\n",
       "      <td>1</td>\n",
       "      <td>2</td>\n",
       "      <td>3</td>\n",
       "      <td>0</td>\n",
       "    </tr>\n",
       "  </tbody>\n",
       "</table>\n",
       "<p>5 rows × 28 columns</p>\n",
       "</div>"
      ],
      "text/plain": [
       "   Employee ID  Age  Distance From Home (kms)  Job Level  \\\n",
       "0            1   41                         1          2   \n",
       "1            2   49                         8          2   \n",
       "2            4   37                         2          1   \n",
       "3            5   33                         3          1   \n",
       "4            7   27                         2          1   \n",
       "\n",
       "   Monthly Income (USD)  Salary Hike (%)  Stock Option Level  \\\n",
       "0                  5993               11                   0   \n",
       "1                  5130               23                   1   \n",
       "2                  2090               15                   0   \n",
       "3                  2909               11                   0   \n",
       "4                  3468               12                   1   \n",
       "\n",
       "   No. of Companies Worked  Total Working Years  Years At Company  ...  \\\n",
       "0                        2                    8                 6  ...   \n",
       "1                        1                   10                10  ...   \n",
       "2                        6                    7                 0  ...   \n",
       "3                        1                    8                 8  ...   \n",
       "4                        9                    6                 2  ...   \n",
       "\n",
       "   EDUCATION  EDUCATION_FIELD  BUSINESS_TRAVEL  OVER_TIME  JOB_INVOLVEMENT  \\\n",
       "0          2                1                2          1                0   \n",
       "1          1                1                1          0                2   \n",
       "2          2                4                2          1                2   \n",
       "3          4                1                1          1                0   \n",
       "4          1                3                2          0                0   \n",
       "\n",
       "   JOB_SATISFACTION  ENVIRONMENT_SATISFACTION  WORK_LIFE_BALANCE  \\\n",
       "0                 3                         2                  0   \n",
       "1                 2                         0                  2   \n",
       "2                 0                         1                  0   \n",
       "3                 0                         3                  2   \n",
       "4                 2                         1                  2   \n",
       "\n",
       "   RELATIONSHIP_SATISFACTION  ATTRITION  \n",
       "0                          1          1  \n",
       "1                          3          0  \n",
       "2                          2          1  \n",
       "3                          0          0  \n",
       "4                          3          0  \n",
       "\n",
       "[5 rows x 28 columns]"
      ]
     },
     "execution_count": 26,
     "metadata": {},
     "output_type": "execute_result"
    }
   ],
   "source": [
    "DF_NEW.head()"
   ]
  },
  {
   "cell_type": "code",
   "execution_count": 27,
   "metadata": {},
   "outputs": [
    {
     "data": {
      "text/plain": [
       "(1470, 28)"
      ]
     },
     "execution_count": 27,
     "metadata": {},
     "output_type": "execute_result"
    }
   ],
   "source": [
    "DF_NEW.shape"
   ]
  },
  {
   "cell_type": "code",
   "execution_count": 28,
   "metadata": {
    "scrolled": true
   },
   "outputs": [
    {
     "data": {
      "text/html": [
       "<div>\n",
       "<style scoped>\n",
       "    .dataframe tbody tr th:only-of-type {\n",
       "        vertical-align: middle;\n",
       "    }\n",
       "\n",
       "    .dataframe tbody tr th {\n",
       "        vertical-align: top;\n",
       "    }\n",
       "\n",
       "    .dataframe thead th {\n",
       "        text-align: right;\n",
       "    }\n",
       "</style>\n",
       "<table border=\"1\" class=\"dataframe\">\n",
       "  <thead>\n",
       "    <tr style=\"text-align: right;\">\n",
       "      <th></th>\n",
       "      <th>Employee ID</th>\n",
       "      <th>Age</th>\n",
       "      <th>Distance From Home (kms)</th>\n",
       "      <th>Job Level</th>\n",
       "      <th>Monthly Income (USD)</th>\n",
       "      <th>Salary Hike (%)</th>\n",
       "      <th>Stock Option Level</th>\n",
       "      <th>No. of Companies Worked</th>\n",
       "      <th>Total Working Years</th>\n",
       "      <th>Years At Company</th>\n",
       "      <th>...</th>\n",
       "      <th>EDUCATION</th>\n",
       "      <th>EDUCATION_FIELD</th>\n",
       "      <th>BUSINESS_TRAVEL</th>\n",
       "      <th>OVER_TIME</th>\n",
       "      <th>JOB_INVOLVEMENT</th>\n",
       "      <th>JOB_SATISFACTION</th>\n",
       "      <th>ENVIRONMENT_SATISFACTION</th>\n",
       "      <th>WORK_LIFE_BALANCE</th>\n",
       "      <th>RELATIONSHIP_SATISFACTION</th>\n",
       "      <th>ATTRITION</th>\n",
       "    </tr>\n",
       "  </thead>\n",
       "  <tbody>\n",
       "    <tr>\n",
       "      <th>count</th>\n",
       "      <td>1470.000000</td>\n",
       "      <td>1470.000000</td>\n",
       "      <td>1470.000000</td>\n",
       "      <td>1470.000000</td>\n",
       "      <td>1470.000000</td>\n",
       "      <td>1470.000000</td>\n",
       "      <td>1470.000000</td>\n",
       "      <td>1470.000000</td>\n",
       "      <td>1470.000000</td>\n",
       "      <td>1470.000000</td>\n",
       "      <td>...</td>\n",
       "      <td>1470.000000</td>\n",
       "      <td>1470.000000</td>\n",
       "      <td>1470.000000</td>\n",
       "      <td>1470.000000</td>\n",
       "      <td>1470.000000</td>\n",
       "      <td>1470.000000</td>\n",
       "      <td>1470.000000</td>\n",
       "      <td>1470.000000</td>\n",
       "      <td>1470.000000</td>\n",
       "      <td>1470.000000</td>\n",
       "    </tr>\n",
       "    <tr>\n",
       "      <th>mean</th>\n",
       "      <td>1024.865306</td>\n",
       "      <td>36.923810</td>\n",
       "      <td>9.192517</td>\n",
       "      <td>2.063946</td>\n",
       "      <td>6502.931293</td>\n",
       "      <td>14.951701</td>\n",
       "      <td>0.793878</td>\n",
       "      <td>2.689116</td>\n",
       "      <td>11.279592</td>\n",
       "      <td>7.008163</td>\n",
       "      <td>...</td>\n",
       "      <td>1.680272</td>\n",
       "      <td>2.247619</td>\n",
       "      <td>1.607483</td>\n",
       "      <td>0.282993</td>\n",
       "      <td>0.860544</td>\n",
       "      <td>1.514286</td>\n",
       "      <td>1.492517</td>\n",
       "      <td>1.901361</td>\n",
       "      <td>1.436735</td>\n",
       "      <td>0.161224</td>\n",
       "    </tr>\n",
       "    <tr>\n",
       "      <th>std</th>\n",
       "      <td>602.024335</td>\n",
       "      <td>9.135373</td>\n",
       "      <td>8.106864</td>\n",
       "      <td>1.106940</td>\n",
       "      <td>4707.956783</td>\n",
       "      <td>3.533904</td>\n",
       "      <td>0.852077</td>\n",
       "      <td>2.494231</td>\n",
       "      <td>7.780782</td>\n",
       "      <td>6.126525</td>\n",
       "      <td>...</td>\n",
       "      <td>1.639316</td>\n",
       "      <td>1.331369</td>\n",
       "      <td>0.665455</td>\n",
       "      <td>0.450606</td>\n",
       "      <td>1.103991</td>\n",
       "      <td>1.215175</td>\n",
       "      <td>1.211871</td>\n",
       "      <td>0.891186</td>\n",
       "      <td>1.153211</td>\n",
       "      <td>0.367863</td>\n",
       "    </tr>\n",
       "    <tr>\n",
       "      <th>min</th>\n",
       "      <td>1.000000</td>\n",
       "      <td>18.000000</td>\n",
       "      <td>1.000000</td>\n",
       "      <td>1.000000</td>\n",
       "      <td>1009.000000</td>\n",
       "      <td>10.000000</td>\n",
       "      <td>0.000000</td>\n",
       "      <td>0.000000</td>\n",
       "      <td>0.000000</td>\n",
       "      <td>0.000000</td>\n",
       "      <td>...</td>\n",
       "      <td>0.000000</td>\n",
       "      <td>0.000000</td>\n",
       "      <td>0.000000</td>\n",
       "      <td>0.000000</td>\n",
       "      <td>0.000000</td>\n",
       "      <td>0.000000</td>\n",
       "      <td>0.000000</td>\n",
       "      <td>0.000000</td>\n",
       "      <td>0.000000</td>\n",
       "      <td>0.000000</td>\n",
       "    </tr>\n",
       "    <tr>\n",
       "      <th>25%</th>\n",
       "      <td>491.250000</td>\n",
       "      <td>30.000000</td>\n",
       "      <td>2.000000</td>\n",
       "      <td>1.000000</td>\n",
       "      <td>2911.000000</td>\n",
       "      <td>12.000000</td>\n",
       "      <td>0.000000</td>\n",
       "      <td>1.000000</td>\n",
       "      <td>6.000000</td>\n",
       "      <td>3.000000</td>\n",
       "      <td>...</td>\n",
       "      <td>0.000000</td>\n",
       "      <td>1.000000</td>\n",
       "      <td>1.000000</td>\n",
       "      <td>0.000000</td>\n",
       "      <td>0.000000</td>\n",
       "      <td>0.000000</td>\n",
       "      <td>0.000000</td>\n",
       "      <td>2.000000</td>\n",
       "      <td>0.000000</td>\n",
       "      <td>0.000000</td>\n",
       "    </tr>\n",
       "    <tr>\n",
       "      <th>50%</th>\n",
       "      <td>1020.500000</td>\n",
       "      <td>36.000000</td>\n",
       "      <td>7.000000</td>\n",
       "      <td>2.000000</td>\n",
       "      <td>4919.000000</td>\n",
       "      <td>14.000000</td>\n",
       "      <td>1.000000</td>\n",
       "      <td>2.000000</td>\n",
       "      <td>10.000000</td>\n",
       "      <td>5.000000</td>\n",
       "      <td>...</td>\n",
       "      <td>1.000000</td>\n",
       "      <td>2.000000</td>\n",
       "      <td>2.000000</td>\n",
       "      <td>0.000000</td>\n",
       "      <td>0.000000</td>\n",
       "      <td>2.000000</td>\n",
       "      <td>1.000000</td>\n",
       "      <td>2.000000</td>\n",
       "      <td>1.000000</td>\n",
       "      <td>0.000000</td>\n",
       "    </tr>\n",
       "    <tr>\n",
       "      <th>75%</th>\n",
       "      <td>1555.750000</td>\n",
       "      <td>43.000000</td>\n",
       "      <td>14.000000</td>\n",
       "      <td>3.000000</td>\n",
       "      <td>8379.000000</td>\n",
       "      <td>17.000000</td>\n",
       "      <td>1.000000</td>\n",
       "      <td>4.000000</td>\n",
       "      <td>15.000000</td>\n",
       "      <td>9.000000</td>\n",
       "      <td>...</td>\n",
       "      <td>4.000000</td>\n",
       "      <td>3.000000</td>\n",
       "      <td>2.000000</td>\n",
       "      <td>1.000000</td>\n",
       "      <td>2.000000</td>\n",
       "      <td>3.000000</td>\n",
       "      <td>3.000000</td>\n",
       "      <td>2.000000</td>\n",
       "      <td>3.000000</td>\n",
       "      <td>0.000000</td>\n",
       "    </tr>\n",
       "    <tr>\n",
       "      <th>max</th>\n",
       "      <td>2068.000000</td>\n",
       "      <td>60.000000</td>\n",
       "      <td>29.000000</td>\n",
       "      <td>5.000000</td>\n",
       "      <td>19999.000000</td>\n",
       "      <td>25.000000</td>\n",
       "      <td>3.000000</td>\n",
       "      <td>9.000000</td>\n",
       "      <td>40.000000</td>\n",
       "      <td>40.000000</td>\n",
       "      <td>...</td>\n",
       "      <td>4.000000</td>\n",
       "      <td>5.000000</td>\n",
       "      <td>2.000000</td>\n",
       "      <td>1.000000</td>\n",
       "      <td>3.000000</td>\n",
       "      <td>3.000000</td>\n",
       "      <td>3.000000</td>\n",
       "      <td>3.000000</td>\n",
       "      <td>3.000000</td>\n",
       "      <td>1.000000</td>\n",
       "    </tr>\n",
       "  </tbody>\n",
       "</table>\n",
       "<p>8 rows × 28 columns</p>\n",
       "</div>"
      ],
      "text/plain": [
       "       Employee ID          Age  Distance From Home (kms)    Job Level  \\\n",
       "count  1470.000000  1470.000000               1470.000000  1470.000000   \n",
       "mean   1024.865306    36.923810                  9.192517     2.063946   \n",
       "std     602.024335     9.135373                  8.106864     1.106940   \n",
       "min       1.000000    18.000000                  1.000000     1.000000   \n",
       "25%     491.250000    30.000000                  2.000000     1.000000   \n",
       "50%    1020.500000    36.000000                  7.000000     2.000000   \n",
       "75%    1555.750000    43.000000                 14.000000     3.000000   \n",
       "max    2068.000000    60.000000                 29.000000     5.000000   \n",
       "\n",
       "       Monthly Income (USD)  Salary Hike (%)  Stock Option Level  \\\n",
       "count           1470.000000      1470.000000         1470.000000   \n",
       "mean            6502.931293        14.951701            0.793878   \n",
       "std             4707.956783         3.533904            0.852077   \n",
       "min             1009.000000        10.000000            0.000000   \n",
       "25%             2911.000000        12.000000            0.000000   \n",
       "50%             4919.000000        14.000000            1.000000   \n",
       "75%             8379.000000        17.000000            1.000000   \n",
       "max            19999.000000        25.000000            3.000000   \n",
       "\n",
       "       No. of Companies Worked  Total Working Years  Years At Company  ...  \\\n",
       "count              1470.000000          1470.000000       1470.000000  ...   \n",
       "mean                  2.689116            11.279592          7.008163  ...   \n",
       "std                   2.494231             7.780782          6.126525  ...   \n",
       "min                   0.000000             0.000000          0.000000  ...   \n",
       "25%                   1.000000             6.000000          3.000000  ...   \n",
       "50%                   2.000000            10.000000          5.000000  ...   \n",
       "75%                   4.000000            15.000000          9.000000  ...   \n",
       "max                   9.000000            40.000000         40.000000  ...   \n",
       "\n",
       "         EDUCATION  EDUCATION_FIELD  BUSINESS_TRAVEL    OVER_TIME  \\\n",
       "count  1470.000000      1470.000000      1470.000000  1470.000000   \n",
       "mean      1.680272         2.247619         1.607483     0.282993   \n",
       "std       1.639316         1.331369         0.665455     0.450606   \n",
       "min       0.000000         0.000000         0.000000     0.000000   \n",
       "25%       0.000000         1.000000         1.000000     0.000000   \n",
       "50%       1.000000         2.000000         2.000000     0.000000   \n",
       "75%       4.000000         3.000000         2.000000     1.000000   \n",
       "max       4.000000         5.000000         2.000000     1.000000   \n",
       "\n",
       "       JOB_INVOLVEMENT  JOB_SATISFACTION  ENVIRONMENT_SATISFACTION  \\\n",
       "count      1470.000000       1470.000000               1470.000000   \n",
       "mean          0.860544          1.514286                  1.492517   \n",
       "std           1.103991          1.215175                  1.211871   \n",
       "min           0.000000          0.000000                  0.000000   \n",
       "25%           0.000000          0.000000                  0.000000   \n",
       "50%           0.000000          2.000000                  1.000000   \n",
       "75%           2.000000          3.000000                  3.000000   \n",
       "max           3.000000          3.000000                  3.000000   \n",
       "\n",
       "       WORK_LIFE_BALANCE  RELATIONSHIP_SATISFACTION    ATTRITION  \n",
       "count        1470.000000                1470.000000  1470.000000  \n",
       "mean            1.901361                   1.436735     0.161224  \n",
       "std             0.891186                   1.153211     0.367863  \n",
       "min             0.000000                   0.000000     0.000000  \n",
       "25%             2.000000                   0.000000     0.000000  \n",
       "50%             2.000000                   1.000000     0.000000  \n",
       "75%             2.000000                   3.000000     0.000000  \n",
       "max             3.000000                   3.000000     1.000000  \n",
       "\n",
       "[8 rows x 28 columns]"
      ]
     },
     "execution_count": 28,
     "metadata": {},
     "output_type": "execute_result"
    }
   ],
   "source": [
    "DF_NEW.describe()"
   ]
  },
  {
   "cell_type": "code",
   "execution_count": 29,
   "metadata": {
    "scrolled": false
   },
   "outputs": [
    {
     "name": "stdout",
     "output_type": "stream",
     "text": [
      "<class 'pandas.core.frame.DataFrame'>\n",
      "RangeIndex: 1470 entries, 0 to 1469\n",
      "Data columns (total 43 columns):\n",
      " #   Column                      Non-Null Count  Dtype \n",
      "---  ------                      --------------  ----- \n",
      " 0   Employee Count              1470 non-null   int64 \n",
      " 1   Employee ID                 1470 non-null   int64 \n",
      " 2   Department                  1470 non-null   object\n",
      " 3   Job Role                    1470 non-null   object\n",
      " 4   Gender                      1470 non-null   object\n",
      " 5   Age                         1470 non-null   int64 \n",
      " 6   Marital Status              1470 non-null   object\n",
      " 7   Education                   1470 non-null   object\n",
      " 8   Education Field             1470 non-null   object\n",
      " 9   Business Travel             1470 non-null   object\n",
      " 10  Distance From Home (kms)    1470 non-null   int64 \n",
      " 11  Job Involvement             1470 non-null   object\n",
      " 12  Job Level                   1470 non-null   int64 \n",
      " 13  Job Satisfaction            1470 non-null   object\n",
      " 14  Monthly Income (USD)        1470 non-null   int64 \n",
      " 15  Salary Hike (%)             1470 non-null   int64 \n",
      " 16  Stock Option Level          1470 non-null   int64 \n",
      " 17  Over Time                   1470 non-null   object\n",
      " 18  No. of Companies Worked     1470 non-null   int64 \n",
      " 19  Total Working Years         1470 non-null   int64 \n",
      " 20  Years At Company            1470 non-null   int64 \n",
      " 21  Years In Current Role       1470 non-null   int64 \n",
      " 22  Years Since Last Promotion  1470 non-null   int64 \n",
      " 23  Years With Curr Manager     1470 non-null   int64 \n",
      " 24  Environment Satisfaction    1470 non-null   object\n",
      " 25  Training Times Last Year    1470 non-null   int64 \n",
      " 26  Work Life Balance           1470 non-null   object\n",
      " 27  Relationship Satisfaction   1470 non-null   object\n",
      " 28  Attrition (Yes/No)          1470 non-null   object\n",
      " 29  DEPARTMENT                  1470 non-null   int32 \n",
      " 30  JOB_ROLE                    1470 non-null   int32 \n",
      " 31  GENDER                      1470 non-null   int32 \n",
      " 32  MARITAL_STATUS              1470 non-null   int32 \n",
      " 33  EDUCATION                   1470 non-null   int32 \n",
      " 34  EDUCATION_FIELD             1470 non-null   int32 \n",
      " 35  BUSINESS_TRAVEL             1470 non-null   int32 \n",
      " 36  OVER_TIME                   1470 non-null   int32 \n",
      " 37  JOB_INVOLVEMENT             1470 non-null   int32 \n",
      " 38  JOB_SATISFACTION            1470 non-null   int32 \n",
      " 39  ENVIRONMENT_SATISFACTION    1470 non-null   int32 \n",
      " 40  WORK_LIFE_BALANCE           1470 non-null   int32 \n",
      " 41  RELATIONSHIP_SATISFACTION   1470 non-null   int32 \n",
      " 42  ATTRITION                   1470 non-null   int32 \n",
      "dtypes: int32(14), int64(15), object(14)\n",
      "memory usage: 413.6+ KB\n"
     ]
    }
   ],
   "source": [
    "df.info()"
   ]
  },
  {
   "cell_type": "code",
   "execution_count": 30,
   "metadata": {
    "scrolled": false
   },
   "outputs": [
    {
     "name": "stdout",
     "output_type": "stream",
     "text": [
      "<class 'pandas.core.frame.DataFrame'>\n",
      "RangeIndex: 1470 entries, 0 to 1469\n",
      "Data columns (total 28 columns):\n",
      " #   Column                      Non-Null Count  Dtype\n",
      "---  ------                      --------------  -----\n",
      " 0   Employee ID                 1470 non-null   int64\n",
      " 1   Age                         1470 non-null   int64\n",
      " 2   Distance From Home (kms)    1470 non-null   int64\n",
      " 3   Job Level                   1470 non-null   int64\n",
      " 4   Monthly Income (USD)        1470 non-null   int64\n",
      " 5   Salary Hike (%)             1470 non-null   int64\n",
      " 6   Stock Option Level          1470 non-null   int64\n",
      " 7   No. of Companies Worked     1470 non-null   int64\n",
      " 8   Total Working Years         1470 non-null   int64\n",
      " 9   Years At Company            1470 non-null   int64\n",
      " 10  Years In Current Role       1470 non-null   int64\n",
      " 11  Years Since Last Promotion  1470 non-null   int64\n",
      " 12  Years With Curr Manager     1470 non-null   int64\n",
      " 13  Training Times Last Year    1470 non-null   int64\n",
      " 14  DEPARTMENT                  1470 non-null   int32\n",
      " 15  JOB_ROLE                    1470 non-null   int32\n",
      " 16  GENDER                      1470 non-null   int32\n",
      " 17  MARITAL_STATUS              1470 non-null   int32\n",
      " 18  EDUCATION                   1470 non-null   int32\n",
      " 19  EDUCATION_FIELD             1470 non-null   int32\n",
      " 20  BUSINESS_TRAVEL             1470 non-null   int32\n",
      " 21  OVER_TIME                   1470 non-null   int32\n",
      " 22  JOB_INVOLVEMENT             1470 non-null   int32\n",
      " 23  JOB_SATISFACTION            1470 non-null   int32\n",
      " 24  ENVIRONMENT_SATISFACTION    1470 non-null   int32\n",
      " 25  WORK_LIFE_BALANCE           1470 non-null   int32\n",
      " 26  RELATIONSHIP_SATISFACTION   1470 non-null   int32\n",
      " 27  ATTRITION                   1470 non-null   int32\n",
      "dtypes: int32(14), int64(14)\n",
      "memory usage: 241.3 KB\n"
     ]
    }
   ],
   "source": [
    "DF_NEW.info()"
   ]
  },
  {
   "cell_type": "markdown",
   "metadata": {},
   "source": [
    "   "
   ]
  },
  {
   "cell_type": "markdown",
   "metadata": {},
   "source": [
    "## Visualizing the Factors"
   ]
  },
  {
   "cell_type": "markdown",
   "metadata": {},
   "source": [
    "   "
   ]
  },
  {
   "cell_type": "code",
   "execution_count": 31,
   "metadata": {},
   "outputs": [
    {
     "data": {
      "text/plain": [
       "<matplotlib.axes._subplots.AxesSubplot at 0x1bce09ed3a0>"
      ]
     },
     "execution_count": 31,
     "metadata": {},
     "output_type": "execute_result"
    },
    {
     "data": {
      "image/png": "[encoded data removed]",
      "text/plain": [
       "<Figure size 432x288 with 1 Axes>"
      ]
     },
     "metadata": {},
     "output_type": "display_data"
    }
   ],
   "source": [
    "dept = DF_NEW['DEPARTMENT'].value_counts()\n",
    "dept.plot(kind='pie')"
   ]
  },
  {
   "cell_type": "markdown",
   "metadata": {},
   "source": [
    "Research & Development = 1  \n",
    "Sales = 2  \n",
    "Human Resources = 0"
   ]
  },
  {
   "cell_type": "markdown",
   "metadata": {},
   "source": [
    "  "
   ]
  },
  {
   "cell_type": "code",
   "execution_count": 32,
   "metadata": {},
   "outputs": [
    {
     "data": {
      "text/plain": [
       "<matplotlib.axes._subplots.AxesSubplot at 0x1bce2a83ee0>"
      ]
     },
     "execution_count": 32,
     "metadata": {},
     "output_type": "execute_result"
    },
    {
     "data": {
      "image/png": "[encoded data removed]",
      "text/plain": [
       "<Figure size 432x288 with 1 Axes>"
      ]
     },
     "metadata": {},
     "output_type": "display_data"
    }
   ],
   "source": [
    "jr = DF_NEW['JOB_ROLE'].value_counts()\n",
    "jr.plot(kind='pie')"
   ]
  },
  {
   "cell_type": "markdown",
   "metadata": {},
   "source": [
    "Sales Executive = 7  \n",
    "Research Scientist = 6  \n",
    "Laboratory Technician = 2  \n",
    "Manufacturing Director = 4  \n",
    "Healthcare Representative = 0  \n",
    "Manager = 3  \n",
    "Sales Representative = 8  \n",
    "Research Director = 5  \n",
    "Human Resources = 1  "
   ]
  },
  {
   "cell_type": "markdown",
   "metadata": {},
   "source": [
    "   "
   ]
  },
  {
   "cell_type": "code",
   "execution_count": 33,
   "metadata": {},
   "outputs": [
    {
     "data": {
      "text/plain": [
       "<matplotlib.axes._subplots.AxesSubplot at 0x1bce2afab80>"
      ]
     },
     "execution_count": 33,
     "metadata": {},
     "output_type": "execute_result"
    },
    {
     "data": {
      "image/png": "[encoded data removed]",
      "text/plain": [
       "<Figure size 432x288 with 1 Axes>"
      ]
     },
     "metadata": {},
     "output_type": "display_data"
    }
   ],
   "source": [
    "g = DF_NEW['GENDER'].value_counts()\n",
    "g.plot(kind='pie')"
   ]
  },
  {
   "cell_type": "markdown",
   "metadata": {},
   "source": [
    "Female = 1  \n",
    "Male = 0  "
   ]
  },
  {
   "cell_type": "markdown",
   "metadata": {},
   "source": [
    "   "
   ]
  },
  {
   "cell_type": "code",
   "execution_count": 34,
   "metadata": {},
   "outputs": [
    {
     "data": {
      "text/plain": [
       "<matplotlib.axes._subplots.AxesSubplot at 0x1bce2b3cc70>"
      ]
     },
     "execution_count": 34,
     "metadata": {},
     "output_type": "execute_result"
    },
    {
     "data": {
      "image/png": "[encoded data removed]",
      "text/plain": [
       "<Figure size 432x288 with 1 Axes>"
      ]
     },
     "metadata": {},
     "output_type": "display_data"
    }
   ],
   "source": [
    "ms = DF_NEW['MARITAL_STATUS'].value_counts()\n",
    "ms.plot(kind='pie')"
   ]
  },
  {
   "cell_type": "markdown",
   "metadata": {},
   "source": [
    "Married = 1  \n",
    "Single = 2  \n",
    "Divorced = 0  "
   ]
  },
  {
   "cell_type": "markdown",
   "metadata": {},
   "source": [
    "   "
   ]
  },
  {
   "cell_type": "code",
   "execution_count": 35,
   "metadata": {},
   "outputs": [
    {
     "data": {
      "text/plain": [
       "<matplotlib.axes._subplots.AxesSubplot at 0x1bce2b86220>"
      ]
     },
     "execution_count": 35,
     "metadata": {},
     "output_type": "execute_result"
    },
    {
     "data": {
      "image/png": "[encoded data removed]",
      "text/plain": [
       "<Figure size 432x288 with 1 Axes>"
      ]
     },
     "metadata": {},
     "output_type": "display_data"
    }
   ],
   "source": [
    "e = DF_NEW['EDUCATION'].value_counts()\n",
    "e.plot(kind='pie')"
   ]
  },
  {
   "cell_type": "markdown",
   "metadata": {},
   "source": [
    "Bachelor = 0  \n",
    "Master = 4  \n",
    "College = 2  \n",
    "Below College = 1  \n",
    "Doctor = 3  "
   ]
  },
  {
   "cell_type": "markdown",
   "metadata": {},
   "source": [
    "   "
   ]
  },
  {
   "cell_type": "code",
   "execution_count": 36,
   "metadata": {},
   "outputs": [
    {
     "data": {
      "text/plain": [
       "<matplotlib.axes._subplots.AxesSubplot at 0x1bce2bd72b0>"
      ]
     },
     "execution_count": 36,
     "metadata": {},
     "output_type": "execute_result"
    },
    {
     "data": {
      "image/png": "[encoded data removed]",
      "text/plain": [
       "<Figure size 432x288 with 1 Axes>"
      ]
     },
     "metadata": {},
     "output_type": "display_data"
    }
   ],
   "source": [
    "ef = DF_NEW['EDUCATION_FIELD'].value_counts()\n",
    "ef.plot(kind='pie')"
   ]
  },
  {
   "cell_type": "markdown",
   "metadata": {},
   "source": [
    "Life Sciences = 1  \n",
    "Medical = 3  \n",
    "Marketing = 2  \n",
    "Technical Degree = 5  \n",
    "Other = 4  \n",
    "Human Resources = 0  "
   ]
  },
  {
   "cell_type": "markdown",
   "metadata": {},
   "source": [
    "    "
   ]
  },
  {
   "cell_type": "code",
   "execution_count": 37,
   "metadata": {},
   "outputs": [
    {
     "data": {
      "text/plain": [
       "<matplotlib.axes._subplots.AxesSubplot at 0x1bce2c226d0>"
      ]
     },
     "execution_count": 37,
     "metadata": {},
     "output_type": "execute_result"
    },
    {
     "data": {
      "image/png": "[encoded data removed]",
      "text/plain": [
       "<Figure size 432x288 with 1 Axes>"
      ]
     },
     "metadata": {},
     "output_type": "display_data"
    }
   ],
   "source": [
    "bt = DF_NEW['BUSINESS_TRAVEL'].value_counts()\n",
    "bt.plot(kind='pie')"
   ]
  },
  {
   "cell_type": "markdown",
   "metadata": {},
   "source": [
    "Travel_Rarely = 2  \n",
    "Travel_Frequently = 1  \n",
    "Non-Travel = 0  "
   ]
  },
  {
   "cell_type": "markdown",
   "metadata": {},
   "source": [
    "  "
   ]
  },
  {
   "cell_type": "code",
   "execution_count": 38,
   "metadata": {},
   "outputs": [
    {
     "data": {
      "text/plain": [
       "<matplotlib.axes._subplots.AxesSubplot at 0x1bce2c62910>"
      ]
     },
     "execution_count": 38,
     "metadata": {},
     "output_type": "execute_result"
    },
    {
     "data": {
      "image/png": "[encoded data removed]",
      "text/plain": [
       "<Figure size 432x288 with 1 Axes>"
      ]
     },
     "metadata": {},
     "output_type": "display_data"
    }
   ],
   "source": [
    "ot = DF_NEW['OVER_TIME'].value_counts()\n",
    "ot.plot(kind='pie')"
   ]
  },
  {
   "cell_type": "markdown",
   "metadata": {},
   "source": [
    "No = 0  \n",
    "Yes = 1  "
   ]
  },
  {
   "cell_type": "markdown",
   "metadata": {},
   "source": [
    "  "
   ]
  },
  {
   "cell_type": "code",
   "execution_count": 39,
   "metadata": {
    "scrolled": true
   },
   "outputs": [
    {
     "data": {
      "text/plain": [
       "<matplotlib.axes._subplots.AxesSubplot at 0x1bce2ca0580>"
      ]
     },
     "execution_count": 39,
     "metadata": {},
     "output_type": "execute_result"
    },
    {
     "data": {
      "image/png": "[encoded data removed]",
      "text/plain": [
       "<Figure size 432x288 with 1 Axes>"
      ]
     },
     "metadata": {},
     "output_type": "display_data"
    }
   ],
   "source": [
    "ji = DF_NEW['JOB_INVOLVEMENT'].value_counts()\n",
    "ji.plot(kind='pie')"
   ]
  },
  {
   "cell_type": "markdown",
   "metadata": {},
   "source": [
    "High = 0  \n",
    "Medium = 2  \n",
    "Very High = 3  \n",
    "Low = 1"
   ]
  },
  {
   "cell_type": "markdown",
   "metadata": {},
   "source": [
    "  "
   ]
  },
  {
   "cell_type": "code",
   "execution_count": 40,
   "metadata": {
    "scrolled": false
   },
   "outputs": [
    {
     "data": {
      "text/plain": [
       "<matplotlib.axes._subplots.AxesSubplot at 0x1bce2ce3eb0>"
      ]
     },
     "execution_count": 40,
     "metadata": {},
     "output_type": "execute_result"
    },
    {
     "data": {
      "image/png": "[encoded data removed]",
      "text/plain": [
       "<Figure size 432x288 with 1 Axes>"
      ]
     },
     "metadata": {},
     "output_type": "display_data"
    }
   ],
   "source": [
    "js = DF_NEW['JOB_SATISFACTION'].value_counts()\n",
    "js.plot(kind='pie')"
   ]
  },
  {
   "cell_type": "markdown",
   "metadata": {},
   "source": [
    "Very High = 3  \n",
    "High = 0  \n",
    "Low = 1  \n",
    "Medium = 2"
   ]
  },
  {
   "cell_type": "markdown",
   "metadata": {},
   "source": [
    "  "
   ]
  },
  {
   "cell_type": "code",
   "execution_count": 41,
   "metadata": {
    "scrolled": true
   },
   "outputs": [
    {
     "data": {
      "text/plain": [
       "<matplotlib.axes._subplots.AxesSubplot at 0x1bce2d308e0>"
      ]
     },
     "execution_count": 41,
     "metadata": {},
     "output_type": "execute_result"
    },
    {
     "data": {
      "image/png": "[encoded data removed]",
      "text/plain": [
       "<Figure size 432x288 with 1 Axes>"
      ]
     },
     "metadata": {},
     "output_type": "display_data"
    }
   ],
   "source": [
    "es = DF_NEW['ENVIRONMENT_SATISFACTION'].value_counts()\n",
    "js.plot(kind='pie')"
   ]
  },
  {
   "cell_type": "markdown",
   "metadata": {},
   "source": [
    "High = 0  \n",
    "Very High = 3  \n",
    "Low = 1  \n",
    "Medium = 2  "
   ]
  },
  {
   "cell_type": "markdown",
   "metadata": {},
   "source": [
    "    "
   ]
  },
  {
   "cell_type": "code",
   "execution_count": 42,
   "metadata": {
    "scrolled": false
   },
   "outputs": [
    {
     "data": {
      "text/plain": [
       "<matplotlib.axes._subplots.AxesSubplot at 0x1bce2d70f70>"
      ]
     },
     "execution_count": 42,
     "metadata": {},
     "output_type": "execute_result"
    },
    {
     "data": {
      "image/png": "[encoded data removed]",
      "text/plain": [
       "<Figure size 432x288 with 1 Axes>"
      ]
     },
     "metadata": {},
     "output_type": "display_data"
    }
   ],
   "source": [
    "wlb = DF_NEW['WORK_LIFE_BALANCE'].value_counts()\n",
    "wlb.plot(kind='pie')"
   ]
  },
  {
   "cell_type": "markdown",
   "metadata": {},
   "source": [
    "Better = 2  \n",
    "Good = 3  \n",
    "Bad = 0  \n",
    "Best = 1"
   ]
  },
  {
   "cell_type": "markdown",
   "metadata": {},
   "source": [
    "  "
   ]
  },
  {
   "cell_type": "code",
   "execution_count": 43,
   "metadata": {
    "scrolled": false
   },
   "outputs": [
    {
     "data": {
      "text/plain": [
       "<matplotlib.axes._subplots.AxesSubplot at 0x1bce2dbcb20>"
      ]
     },
     "execution_count": 43,
     "metadata": {},
     "output_type": "execute_result"
    },
    {
     "data": {
      "image/png": "[encoded data removed]",
      "text/plain": [
       "<Figure size 432x288 with 1 Axes>"
      ]
     },
     "metadata": {},
     "output_type": "display_data"
    }
   ],
   "source": [
    "rs = DF_NEW['RELATIONSHIP_SATISFACTION'].value_counts()\n",
    "rs.plot(kind='pie')"
   ]
  },
  {
   "cell_type": "markdown",
   "metadata": {},
   "source": [
    "High = 0  \n",
    "Very High = 3  \n",
    "Low = 1  \n",
    "Medium = 2"
   ]
  },
  {
   "cell_type": "markdown",
   "metadata": {},
   "source": [
    "  "
   ]
  },
  {
   "cell_type": "code",
   "execution_count": 44,
   "metadata": {
    "scrolled": false
   },
   "outputs": [
    {
     "data": {
      "text/plain": [
       "<matplotlib.axes._subplots.AxesSubplot at 0x1bce2e0a3d0>"
      ]
     },
     "execution_count": 44,
     "metadata": {},
     "output_type": "execute_result"
    },
    {
     "data": {
      "image/png": "[encoded data removed]",
      "text/plain": [
       "<Figure size 432x288 with 1 Axes>"
      ]
     },
     "metadata": {},
     "output_type": "display_data"
    }
   ],
   "source": [
    "att = DF_NEW['ATTRITION'].value_counts()\n",
    "att.plot(kind='pie')"
   ]
  },
  {
   "cell_type": "markdown",
   "metadata": {},
   "source": [
    "No = 0  \n",
    "Yes = 1  \n",
    "\n",
    "As per the problem statement, we focus on whether the employees are in the company at present or have left the company. The data visualization provides the fact that there are more employees who left the company as compared to the ones who stayed in the company."
   ]
  },
  {
   "cell_type": "markdown",
   "metadata": {},
   "source": [
    "   "
   ]
  },
  {
   "cell_type": "markdown",
   "metadata": {},
   "source": [
    "## Finding correlation and their relationship between attrition and all the other factors"
   ]
  },
  {
   "cell_type": "markdown",
   "metadata": {},
   "source": [
    "    "
   ]
  },
  {
   "cell_type": "markdown",
   "metadata": {},
   "source": [
    "1. Studying the correlation factors we can see that 'Marital Status', 'Over Time' have the most correlation with whether the employee is or is not a part of the company (Attrition).   \n",
    "\n",
    "2. The factors like 'Department', 'Job Role', 'Gender', 'Education Field',  'Job Involvement' have a good correlation but not as good as the previously mentioned.   \n",
    "  \n",
    "3. The rest of the factors have a -ve correlation, which implies that they play least or very less part in whether the employee is a part of the company or not.   \n",
    "     \n",
    "4. The least significant factor of all is the 'Work Life balance'.\n",
    "\n",
    "### The complete table and its visualization for a better and precise look of the correlation is as follows:"
   ]
  },
  {
   "cell_type": "markdown",
   "metadata": {},
   "source": [
    "   "
   ]
  },
  {
   "cell_type": "code",
   "execution_count": 45,
   "metadata": {
    "scrolled": false
   },
   "outputs": [
    {
     "data": {
      "text/html": [
       "<div>\n",
       "<style scoped>\n",
       "    .dataframe tbody tr th:only-of-type {\n",
       "        vertical-align: middle;\n",
       "    }\n",
       "\n",
       "    .dataframe tbody tr th {\n",
       "        vertical-align: top;\n",
       "    }\n",
       "\n",
       "    .dataframe thead th {\n",
       "        text-align: right;\n",
       "    }\n",
       "</style>\n",
       "<table border=\"1\" class=\"dataframe\">\n",
       "  <thead>\n",
       "    <tr style=\"text-align: right;\">\n",
       "      <th></th>\n",
       "      <th>Employee ID</th>\n",
       "      <th>Age</th>\n",
       "      <th>Distance From Home (kms)</th>\n",
       "      <th>Job Level</th>\n",
       "      <th>Monthly Income (USD)</th>\n",
       "      <th>Salary Hike (%)</th>\n",
       "      <th>Stock Option Level</th>\n",
       "      <th>No. of Companies Worked</th>\n",
       "      <th>Total Working Years</th>\n",
       "      <th>Years At Company</th>\n",
       "      <th>...</th>\n",
       "      <th>EDUCATION</th>\n",
       "      <th>EDUCATION_FIELD</th>\n",
       "      <th>BUSINESS_TRAVEL</th>\n",
       "      <th>OVER_TIME</th>\n",
       "      <th>JOB_INVOLVEMENT</th>\n",
       "      <th>JOB_SATISFACTION</th>\n",
       "      <th>ENVIRONMENT_SATISFACTION</th>\n",
       "      <th>WORK_LIFE_BALANCE</th>\n",
       "      <th>RELATIONSHIP_SATISFACTION</th>\n",
       "      <th>ATTRITION</th>\n",
       "    </tr>\n",
       "  </thead>\n",
       "  <tbody>\n",
       "    <tr>\n",
       "      <th>Employee ID</th>\n",
       "      <td>1.000000</td>\n",
       "      <td>-0.010145</td>\n",
       "      <td>0.032916</td>\n",
       "      <td>-0.018519</td>\n",
       "      <td>-0.014829</td>\n",
       "      <td>-0.000679</td>\n",
       "      <td>0.062227</td>\n",
       "      <td>0.001532</td>\n",
       "      <td>-0.014365</td>\n",
       "      <td>-0.011240</td>\n",
       "      <td>...</td>\n",
       "      <td>0.011117</td>\n",
       "      <td>-0.002516</td>\n",
       "      <td>-0.015578</td>\n",
       "      <td>-0.024037</td>\n",
       "      <td>0.007819</td>\n",
       "      <td>-0.025262</td>\n",
       "      <td>0.048087</td>\n",
       "      <td>0.022781</td>\n",
       "      <td>-0.022037</td>\n",
       "      <td>-0.010577</td>\n",
       "    </tr>\n",
       "    <tr>\n",
       "      <th>Age</th>\n",
       "      <td>-0.010145</td>\n",
       "      <td>1.000000</td>\n",
       "      <td>-0.001686</td>\n",
       "      <td>0.509604</td>\n",
       "      <td>0.497855</td>\n",
       "      <td>0.040287</td>\n",
       "      <td>0.037510</td>\n",
       "      <td>0.299358</td>\n",
       "      <td>0.680381</td>\n",
       "      <td>0.311309</td>\n",
       "      <td>...</td>\n",
       "      <td>0.151695</td>\n",
       "      <td>-0.040873</td>\n",
       "      <td>0.024751</td>\n",
       "      <td>0.028062</td>\n",
       "      <td>-0.029606</td>\n",
       "      <td>-0.008855</td>\n",
       "      <td>0.012615</td>\n",
       "      <td>0.053259</td>\n",
       "      <td>0.017829</td>\n",
       "      <td>-0.159205</td>\n",
       "    </tr>\n",
       "    <tr>\n",
       "      <th>Distance From Home (kms)</th>\n",
       "      <td>0.032916</td>\n",
       "      <td>-0.001686</td>\n",
       "      <td>1.000000</td>\n",
       "      <td>0.005303</td>\n",
       "      <td>-0.017014</td>\n",
       "      <td>0.015960</td>\n",
       "      <td>0.044872</td>\n",
       "      <td>-0.027640</td>\n",
       "      <td>0.004628</td>\n",
       "      <td>0.009508</td>\n",
       "      <td>...</td>\n",
       "      <td>0.002279</td>\n",
       "      <td>0.002013</td>\n",
       "      <td>-0.024469</td>\n",
       "      <td>0.025514</td>\n",
       "      <td>-0.003235</td>\n",
       "      <td>-0.018902</td>\n",
       "      <td>-0.003214</td>\n",
       "      <td>-0.000479</td>\n",
       "      <td>0.001923</td>\n",
       "      <td>0.077924</td>\n",
       "    </tr>\n",
       "    <tr>\n",
       "      <th>Job Level</th>\n",
       "      <td>-0.018519</td>\n",
       "      <td>0.509604</td>\n",
       "      <td>0.005303</td>\n",
       "      <td>1.000000</td>\n",
       "      <td>0.950300</td>\n",
       "      <td>0.010361</td>\n",
       "      <td>0.013984</td>\n",
       "      <td>0.142812</td>\n",
       "      <td>0.782208</td>\n",
       "      <td>0.534739</td>\n",
       "      <td>...</td>\n",
       "      <td>0.044287</td>\n",
       "      <td>-0.044933</td>\n",
       "      <td>0.019311</td>\n",
       "      <td>0.000544</td>\n",
       "      <td>-0.013308</td>\n",
       "      <td>-0.006246</td>\n",
       "      <td>0.000864</td>\n",
       "      <td>0.074024</td>\n",
       "      <td>0.010637</td>\n",
       "      <td>-0.169105</td>\n",
       "    </tr>\n",
       "    <tr>\n",
       "      <th>Monthly Income (USD)</th>\n",
       "      <td>-0.014829</td>\n",
       "      <td>0.497855</td>\n",
       "      <td>-0.017014</td>\n",
       "      <td>0.950300</td>\n",
       "      <td>1.000000</td>\n",
       "      <td>0.015050</td>\n",
       "      <td>0.005408</td>\n",
       "      <td>0.149919</td>\n",
       "      <td>0.772893</td>\n",
       "      <td>0.514285</td>\n",
       "      <td>...</td>\n",
       "      <td>0.042130</td>\n",
       "      <td>-0.041070</td>\n",
       "      <td>0.034319</td>\n",
       "      <td>0.006089</td>\n",
       "      <td>-0.009777</td>\n",
       "      <td>-0.001306</td>\n",
       "      <td>-0.002469</td>\n",
       "      <td>0.058829</td>\n",
       "      <td>0.004012</td>\n",
       "      <td>-0.159840</td>\n",
       "    </tr>\n",
       "    <tr>\n",
       "      <th>Salary Hike (%)</th>\n",
       "      <td>-0.000679</td>\n",
       "      <td>0.040287</td>\n",
       "      <td>0.015960</td>\n",
       "      <td>0.010361</td>\n",
       "      <td>0.015050</td>\n",
       "      <td>1.000000</td>\n",
       "      <td>0.041906</td>\n",
       "      <td>-0.000315</td>\n",
       "      <td>0.019554</td>\n",
       "      <td>-0.002812</td>\n",
       "      <td>...</td>\n",
       "      <td>0.021656</td>\n",
       "      <td>-0.020751</td>\n",
       "      <td>-0.020514</td>\n",
       "      <td>-0.058527</td>\n",
       "      <td>0.024096</td>\n",
       "      <td>0.053503</td>\n",
       "      <td>-0.030524</td>\n",
       "      <td>0.053604</td>\n",
       "      <td>0.027229</td>\n",
       "      <td>-0.180424</td>\n",
       "    </tr>\n",
       "    <tr>\n",
       "      <th>Stock Option Level</th>\n",
       "      <td>0.062227</td>\n",
       "      <td>0.037510</td>\n",
       "      <td>0.044872</td>\n",
       "      <td>0.013984</td>\n",
       "      <td>0.005408</td>\n",
       "      <td>0.041906</td>\n",
       "      <td>1.000000</td>\n",
       "      <td>0.031647</td>\n",
       "      <td>0.010136</td>\n",
       "      <td>0.015058</td>\n",
       "      <td>...</td>\n",
       "      <td>0.026864</td>\n",
       "      <td>-0.016185</td>\n",
       "      <td>-0.016727</td>\n",
       "      <td>-0.000449</td>\n",
       "      <td>0.018631</td>\n",
       "      <td>0.028158</td>\n",
       "      <td>-0.008417</td>\n",
       "      <td>0.094229</td>\n",
       "      <td>-0.036488</td>\n",
       "      <td>-0.137145</td>\n",
       "    </tr>\n",
       "    <tr>\n",
       "      <th>No. of Companies Worked</th>\n",
       "      <td>0.001532</td>\n",
       "      <td>0.299358</td>\n",
       "      <td>-0.027640</td>\n",
       "      <td>0.142812</td>\n",
       "      <td>0.149919</td>\n",
       "      <td>-0.000315</td>\n",
       "      <td>0.031647</td>\n",
       "      <td>1.000000</td>\n",
       "      <td>0.238689</td>\n",
       "      <td>-0.118331</td>\n",
       "      <td>...</td>\n",
       "      <td>0.074567</td>\n",
       "      <td>-0.007142</td>\n",
       "      <td>0.019940</td>\n",
       "      <td>-0.023423</td>\n",
       "      <td>-0.022430</td>\n",
       "      <td>-0.026721</td>\n",
       "      <td>0.026142</td>\n",
       "      <td>-0.039530</td>\n",
       "      <td>-0.004121</td>\n",
       "      <td>0.039826</td>\n",
       "    </tr>\n",
       "    <tr>\n",
       "      <th>Total Working Years</th>\n",
       "      <td>-0.014365</td>\n",
       "      <td>0.680381</td>\n",
       "      <td>0.004628</td>\n",
       "      <td>0.782208</td>\n",
       "      <td>0.772893</td>\n",
       "      <td>0.019554</td>\n",
       "      <td>0.010136</td>\n",
       "      <td>0.238689</td>\n",
       "      <td>1.000000</td>\n",
       "      <td>0.628133</td>\n",
       "      <td>...</td>\n",
       "      <td>0.080023</td>\n",
       "      <td>-0.027848</td>\n",
       "      <td>0.034226</td>\n",
       "      <td>0.012754</td>\n",
       "      <td>-0.004730</td>\n",
       "      <td>0.001197</td>\n",
       "      <td>0.005600</td>\n",
       "      <td>0.079180</td>\n",
       "      <td>0.001783</td>\n",
       "      <td>-0.171063</td>\n",
       "    </tr>\n",
       "    <tr>\n",
       "      <th>Years At Company</th>\n",
       "      <td>-0.011240</td>\n",
       "      <td>0.311309</td>\n",
       "      <td>0.009508</td>\n",
       "      <td>0.534739</td>\n",
       "      <td>0.514285</td>\n",
       "      <td>-0.002812</td>\n",
       "      <td>0.015058</td>\n",
       "      <td>-0.118331</td>\n",
       "      <td>0.628133</td>\n",
       "      <td>1.000000</td>\n",
       "      <td>...</td>\n",
       "      <td>0.051637</td>\n",
       "      <td>-0.018692</td>\n",
       "      <td>-0.014575</td>\n",
       "      <td>-0.011687</td>\n",
       "      <td>0.015567</td>\n",
       "      <td>-0.001113</td>\n",
       "      <td>-0.016220</td>\n",
       "      <td>0.060867</td>\n",
       "      <td>0.026859</td>\n",
       "      <td>-0.134392</td>\n",
       "    </tr>\n",
       "    <tr>\n",
       "      <th>Years In Current Role</th>\n",
       "      <td>-0.008416</td>\n",
       "      <td>0.212901</td>\n",
       "      <td>0.018845</td>\n",
       "      <td>0.389447</td>\n",
       "      <td>0.363818</td>\n",
       "      <td>0.031862</td>\n",
       "      <td>0.050818</td>\n",
       "      <td>-0.090788</td>\n",
       "      <td>0.460365</td>\n",
       "      <td>0.758754</td>\n",
       "      <td>...</td>\n",
       "      <td>0.018309</td>\n",
       "      <td>-0.010506</td>\n",
       "      <td>-0.011497</td>\n",
       "      <td>-0.029758</td>\n",
       "      <td>-0.002043</td>\n",
       "      <td>-0.011645</td>\n",
       "      <td>-0.006973</td>\n",
       "      <td>0.048119</td>\n",
       "      <td>0.028319</td>\n",
       "      <td>-0.160545</td>\n",
       "    </tr>\n",
       "    <tr>\n",
       "      <th>Years Since Last Promotion</th>\n",
       "      <td>-0.009019</td>\n",
       "      <td>0.216513</td>\n",
       "      <td>0.010029</td>\n",
       "      <td>0.353885</td>\n",
       "      <td>0.344978</td>\n",
       "      <td>0.001454</td>\n",
       "      <td>0.014352</td>\n",
       "      <td>-0.035758</td>\n",
       "      <td>0.404858</td>\n",
       "      <td>0.618409</td>\n",
       "      <td>...</td>\n",
       "      <td>0.023356</td>\n",
       "      <td>0.002326</td>\n",
       "      <td>-0.032591</td>\n",
       "      <td>-0.012239</td>\n",
       "      <td>-0.015023</td>\n",
       "      <td>-0.001902</td>\n",
       "      <td>0.002800</td>\n",
       "      <td>0.019254</td>\n",
       "      <td>0.072808</td>\n",
       "      <td>-0.033019</td>\n",
       "    </tr>\n",
       "    <tr>\n",
       "      <th>Years With Curr Manager</th>\n",
       "      <td>-0.009197</td>\n",
       "      <td>0.202089</td>\n",
       "      <td>0.014406</td>\n",
       "      <td>0.375281</td>\n",
       "      <td>0.344079</td>\n",
       "      <td>0.016776</td>\n",
       "      <td>0.024698</td>\n",
       "      <td>-0.110889</td>\n",
       "      <td>0.459188</td>\n",
       "      <td>0.769212</td>\n",
       "      <td>...</td>\n",
       "      <td>0.042929</td>\n",
       "      <td>-0.004130</td>\n",
       "      <td>-0.022636</td>\n",
       "      <td>-0.041586</td>\n",
       "      <td>0.014039</td>\n",
       "      <td>-0.002996</td>\n",
       "      <td>-0.001755</td>\n",
       "      <td>0.054344</td>\n",
       "      <td>0.038538</td>\n",
       "      <td>-0.156199</td>\n",
       "    </tr>\n",
       "    <tr>\n",
       "      <th>Training Times Last Year</th>\n",
       "      <td>0.023603</td>\n",
       "      <td>-0.019621</td>\n",
       "      <td>-0.036942</td>\n",
       "      <td>-0.018191</td>\n",
       "      <td>-0.021736</td>\n",
       "      <td>0.012065</td>\n",
       "      <td>0.011274</td>\n",
       "      <td>-0.062599</td>\n",
       "      <td>-0.035662</td>\n",
       "      <td>0.003569</td>\n",
       "      <td>...</td>\n",
       "      <td>-0.019750</td>\n",
       "      <td>0.049195</td>\n",
       "      <td>0.015240</td>\n",
       "      <td>-0.079113</td>\n",
       "      <td>-0.034024</td>\n",
       "      <td>0.023774</td>\n",
       "      <td>-0.031678</td>\n",
       "      <td>0.031342</td>\n",
       "      <td>0.007251</td>\n",
       "      <td>-0.059478</td>\n",
       "    </tr>\n",
       "    <tr>\n",
       "      <th>DEPARTMENT</th>\n",
       "      <td>-0.010895</td>\n",
       "      <td>-0.031882</td>\n",
       "      <td>0.017225</td>\n",
       "      <td>0.101963</td>\n",
       "      <td>0.053130</td>\n",
       "      <td>-0.003468</td>\n",
       "      <td>-0.012193</td>\n",
       "      <td>-0.038230</td>\n",
       "      <td>-0.015762</td>\n",
       "      <td>0.022920</td>\n",
       "      <td>...</td>\n",
       "      <td>0.029469</td>\n",
       "      <td>0.013720</td>\n",
       "      <td>-0.009044</td>\n",
       "      <td>0.007481</td>\n",
       "      <td>-0.039241</td>\n",
       "      <td>0.018074</td>\n",
       "      <td>0.014225</td>\n",
       "      <td>0.009811</td>\n",
       "      <td>0.003054</td>\n",
       "      <td>0.063991</td>\n",
       "    </tr>\n",
       "    <tr>\n",
       "      <th>JOB_ROLE</th>\n",
       "      <td>-0.010336</td>\n",
       "      <td>-0.122427</td>\n",
       "      <td>-0.001015</td>\n",
       "      <td>-0.085457</td>\n",
       "      <td>-0.093951</td>\n",
       "      <td>-0.006373</td>\n",
       "      <td>-0.019171</td>\n",
       "      <td>-0.058143</td>\n",
       "      <td>-0.145439</td>\n",
       "      <td>-0.083657</td>\n",
       "      <td>...</td>\n",
       "      <td>0.005481</td>\n",
       "      <td>0.015599</td>\n",
       "      <td>0.002724</td>\n",
       "      <td>0.040662</td>\n",
       "      <td>-0.031811</td>\n",
       "      <td>0.011917</td>\n",
       "      <td>0.015982</td>\n",
       "      <td>0.011010</td>\n",
       "      <td>0.034202</td>\n",
       "      <td>0.067151</td>\n",
       "    </tr>\n",
       "    <tr>\n",
       "      <th>GENDER</th>\n",
       "      <td>0.022556</td>\n",
       "      <td>-0.036311</td>\n",
       "      <td>-0.001851</td>\n",
       "      <td>-0.039403</td>\n",
       "      <td>-0.031858</td>\n",
       "      <td>0.006525</td>\n",
       "      <td>0.012716</td>\n",
       "      <td>-0.037202</td>\n",
       "      <td>-0.046881</td>\n",
       "      <td>-0.029747</td>\n",
       "      <td>...</td>\n",
       "      <td>0.010168</td>\n",
       "      <td>-0.002504</td>\n",
       "      <td>-0.032981</td>\n",
       "      <td>-0.041924</td>\n",
       "      <td>-0.002516</td>\n",
       "      <td>0.029035</td>\n",
       "      <td>0.021320</td>\n",
       "      <td>-0.021822</td>\n",
       "      <td>0.022645</td>\n",
       "      <td>0.029453</td>\n",
       "    </tr>\n",
       "    <tr>\n",
       "      <th>MARITAL_STATUS</th>\n",
       "      <td>-0.008155</td>\n",
       "      <td>-0.095029</td>\n",
       "      <td>-0.014437</td>\n",
       "      <td>-0.076769</td>\n",
       "      <td>-0.075450</td>\n",
       "      <td>-0.030629</td>\n",
       "      <td>-0.662577</td>\n",
       "      <td>-0.037584</td>\n",
       "      <td>-0.077886</td>\n",
       "      <td>-0.059986</td>\n",
       "      <td>...</td>\n",
       "      <td>-0.021771</td>\n",
       "      <td>0.014420</td>\n",
       "      <td>0.024001</td>\n",
       "      <td>-0.017521</td>\n",
       "      <td>0.004174</td>\n",
       "      <td>0.016463</td>\n",
       "      <td>0.014287</td>\n",
       "      <td>-0.093002</td>\n",
       "      <td>0.037633</td>\n",
       "      <td>0.162070</td>\n",
       "    </tr>\n",
       "    <tr>\n",
       "      <th>EDUCATION</th>\n",
       "      <td>0.011117</td>\n",
       "      <td>0.151695</td>\n",
       "      <td>0.002279</td>\n",
       "      <td>0.044287</td>\n",
       "      <td>0.042130</td>\n",
       "      <td>0.021656</td>\n",
       "      <td>0.026864</td>\n",
       "      <td>0.074567</td>\n",
       "      <td>0.080023</td>\n",
       "      <td>0.051637</td>\n",
       "      <td>...</td>\n",
       "      <td>1.000000</td>\n",
       "      <td>-0.016100</td>\n",
       "      <td>-0.023390</td>\n",
       "      <td>0.030417</td>\n",
       "      <td>-0.007728</td>\n",
       "      <td>-0.004882</td>\n",
       "      <td>0.010788</td>\n",
       "      <td>-0.022534</td>\n",
       "      <td>0.030703</td>\n",
       "      <td>-0.036376</td>\n",
       "    </tr>\n",
       "    <tr>\n",
       "      <th>EDUCATION_FIELD</th>\n",
       "      <td>-0.002516</td>\n",
       "      <td>-0.040873</td>\n",
       "      <td>0.002013</td>\n",
       "      <td>-0.044933</td>\n",
       "      <td>-0.041070</td>\n",
       "      <td>-0.020751</td>\n",
       "      <td>-0.016185</td>\n",
       "      <td>-0.007142</td>\n",
       "      <td>-0.027848</td>\n",
       "      <td>-0.018692</td>\n",
       "      <td>...</td>\n",
       "      <td>-0.016100</td>\n",
       "      <td>1.000000</td>\n",
       "      <td>0.023724</td>\n",
       "      <td>0.002259</td>\n",
       "      <td>-0.011226</td>\n",
       "      <td>-0.033745</td>\n",
       "      <td>0.006212</td>\n",
       "      <td>-0.007513</td>\n",
       "      <td>0.018191</td>\n",
       "      <td>0.026846</td>\n",
       "    </tr>\n",
       "    <tr>\n",
       "      <th>BUSINESS_TRAVEL</th>\n",
       "      <td>-0.015578</td>\n",
       "      <td>0.024751</td>\n",
       "      <td>-0.024469</td>\n",
       "      <td>0.019311</td>\n",
       "      <td>0.034319</td>\n",
       "      <td>-0.020514</td>\n",
       "      <td>-0.016727</td>\n",
       "      <td>0.019940</td>\n",
       "      <td>0.034226</td>\n",
       "      <td>-0.014575</td>\n",
       "      <td>...</td>\n",
       "      <td>-0.023390</td>\n",
       "      <td>0.023724</td>\n",
       "      <td>1.000000</td>\n",
       "      <td>0.016543</td>\n",
       "      <td>0.007908</td>\n",
       "      <td>0.016620</td>\n",
       "      <td>0.032230</td>\n",
       "      <td>0.000098</td>\n",
       "      <td>-0.029276</td>\n",
       "      <td>0.000074</td>\n",
       "    </tr>\n",
       "    <tr>\n",
       "      <th>OVER_TIME</th>\n",
       "      <td>-0.024037</td>\n",
       "      <td>0.028062</td>\n",
       "      <td>0.025514</td>\n",
       "      <td>0.000544</td>\n",
       "      <td>0.006089</td>\n",
       "      <td>-0.058527</td>\n",
       "      <td>-0.000449</td>\n",
       "      <td>-0.023423</td>\n",
       "      <td>0.012754</td>\n",
       "      <td>-0.011687</td>\n",
       "      <td>...</td>\n",
       "      <td>0.030417</td>\n",
       "      <td>0.002259</td>\n",
       "      <td>0.016543</td>\n",
       "      <td>1.000000</td>\n",
       "      <td>0.000019</td>\n",
       "      <td>0.022449</td>\n",
       "      <td>0.027566</td>\n",
       "      <td>-0.067749</td>\n",
       "      <td>-0.010063</td>\n",
       "      <td>0.246118</td>\n",
       "    </tr>\n",
       "    <tr>\n",
       "      <th>JOB_INVOLVEMENT</th>\n",
       "      <td>0.007819</td>\n",
       "      <td>-0.029606</td>\n",
       "      <td>-0.003235</td>\n",
       "      <td>-0.013308</td>\n",
       "      <td>-0.009777</td>\n",
       "      <td>0.024096</td>\n",
       "      <td>0.018631</td>\n",
       "      <td>-0.022430</td>\n",
       "      <td>-0.004730</td>\n",
       "      <td>0.015567</td>\n",
       "      <td>...</td>\n",
       "      <td>-0.007728</td>\n",
       "      <td>-0.011226</td>\n",
       "      <td>0.007908</td>\n",
       "      <td>0.000019</td>\n",
       "      <td>1.000000</td>\n",
       "      <td>-0.009424</td>\n",
       "      <td>-0.018335</td>\n",
       "      <td>0.016453</td>\n",
       "      <td>-0.001855</td>\n",
       "      <td>0.008467</td>\n",
       "    </tr>\n",
       "    <tr>\n",
       "      <th>JOB_SATISFACTION</th>\n",
       "      <td>-0.025262</td>\n",
       "      <td>-0.008855</td>\n",
       "      <td>-0.018902</td>\n",
       "      <td>-0.006246</td>\n",
       "      <td>-0.001306</td>\n",
       "      <td>0.053503</td>\n",
       "      <td>0.028158</td>\n",
       "      <td>-0.026721</td>\n",
       "      <td>0.001197</td>\n",
       "      <td>-0.001113</td>\n",
       "      <td>...</td>\n",
       "      <td>-0.004882</td>\n",
       "      <td>-0.033745</td>\n",
       "      <td>0.016620</td>\n",
       "      <td>0.022449</td>\n",
       "      <td>-0.009424</td>\n",
       "      <td>1.000000</td>\n",
       "      <td>0.005851</td>\n",
       "      <td>0.048761</td>\n",
       "      <td>-0.010770</td>\n",
       "      <td>-0.068354</td>\n",
       "    </tr>\n",
       "    <tr>\n",
       "      <th>ENVIRONMENT_SATISFACTION</th>\n",
       "      <td>0.048087</td>\n",
       "      <td>0.012615</td>\n",
       "      <td>-0.003214</td>\n",
       "      <td>0.000864</td>\n",
       "      <td>-0.002469</td>\n",
       "      <td>-0.030524</td>\n",
       "      <td>-0.008417</td>\n",
       "      <td>0.026142</td>\n",
       "      <td>0.005600</td>\n",
       "      <td>-0.016220</td>\n",
       "      <td>...</td>\n",
       "      <td>0.010788</td>\n",
       "      <td>0.006212</td>\n",
       "      <td>0.032230</td>\n",
       "      <td>0.027566</td>\n",
       "      <td>-0.018335</td>\n",
       "      <td>0.005851</td>\n",
       "      <td>1.000000</td>\n",
       "      <td>0.023583</td>\n",
       "      <td>0.017927</td>\n",
       "      <td>-0.027068</td>\n",
       "    </tr>\n",
       "    <tr>\n",
       "      <th>WORK_LIFE_BALANCE</th>\n",
       "      <td>0.022781</td>\n",
       "      <td>0.053259</td>\n",
       "      <td>-0.000479</td>\n",
       "      <td>0.074024</td>\n",
       "      <td>0.058829</td>\n",
       "      <td>0.053604</td>\n",
       "      <td>0.094229</td>\n",
       "      <td>-0.039530</td>\n",
       "      <td>0.079180</td>\n",
       "      <td>0.060867</td>\n",
       "      <td>...</td>\n",
       "      <td>-0.022534</td>\n",
       "      <td>-0.007513</td>\n",
       "      <td>0.000098</td>\n",
       "      <td>-0.067749</td>\n",
       "      <td>0.016453</td>\n",
       "      <td>0.048761</td>\n",
       "      <td>0.023583</td>\n",
       "      <td>1.000000</td>\n",
       "      <td>0.018100</td>\n",
       "      <td>-0.339756</td>\n",
       "    </tr>\n",
       "    <tr>\n",
       "      <th>RELATIONSHIP_SATISFACTION</th>\n",
       "      <td>-0.022037</td>\n",
       "      <td>0.017829</td>\n",
       "      <td>0.001923</td>\n",
       "      <td>0.010637</td>\n",
       "      <td>0.004012</td>\n",
       "      <td>0.027229</td>\n",
       "      <td>-0.036488</td>\n",
       "      <td>-0.004121</td>\n",
       "      <td>0.001783</td>\n",
       "      <td>0.026859</td>\n",
       "      <td>...</td>\n",
       "      <td>0.030703</td>\n",
       "      <td>0.018191</td>\n",
       "      <td>-0.029276</td>\n",
       "      <td>-0.010063</td>\n",
       "      <td>-0.001855</td>\n",
       "      <td>-0.010770</td>\n",
       "      <td>0.017927</td>\n",
       "      <td>0.018100</td>\n",
       "      <td>1.000000</td>\n",
       "      <td>-0.108324</td>\n",
       "    </tr>\n",
       "    <tr>\n",
       "      <th>ATTRITION</th>\n",
       "      <td>-0.010577</td>\n",
       "      <td>-0.159205</td>\n",
       "      <td>0.077924</td>\n",
       "      <td>-0.169105</td>\n",
       "      <td>-0.159840</td>\n",
       "      <td>-0.180424</td>\n",
       "      <td>-0.137145</td>\n",
       "      <td>0.039826</td>\n",
       "      <td>-0.171063</td>\n",
       "      <td>-0.134392</td>\n",
       "      <td>...</td>\n",
       "      <td>-0.036376</td>\n",
       "      <td>0.026846</td>\n",
       "      <td>0.000074</td>\n",
       "      <td>0.246118</td>\n",
       "      <td>0.008467</td>\n",
       "      <td>-0.068354</td>\n",
       "      <td>-0.027068</td>\n",
       "      <td>-0.339756</td>\n",
       "      <td>-0.108324</td>\n",
       "      <td>1.000000</td>\n",
       "    </tr>\n",
       "  </tbody>\n",
       "</table>\n",
       "<p>28 rows × 28 columns</p>\n",
       "</div>"
      ],
      "text/plain": [
       "                            Employee ID       Age  Distance From Home (kms)  \\\n",
       "Employee ID                    1.000000 -0.010145                  0.032916   \n",
       "Age                           -0.010145  1.000000                 -0.001686   \n",
       "Distance From Home (kms)       0.032916 -0.001686                  1.000000   \n",
       "Job Level                     -0.018519  0.509604                  0.005303   \n",
       "Monthly Income (USD)          -0.014829  0.497855                 -0.017014   \n",
       "Salary Hike (%)               -0.000679  0.040287                  0.015960   \n",
       "Stock Option Level             0.062227  0.037510                  0.044872   \n",
       "No. of Companies Worked        0.001532  0.299358                 -0.027640   \n",
       "Total Working Years           -0.014365  0.680381                  0.004628   \n",
       "Years At Company              -0.011240  0.311309                  0.009508   \n",
       "Years In Current Role         -0.008416  0.212901                  0.018845   \n",
       "Years Since Last Promotion    -0.009019  0.216513                  0.010029   \n",
       "Years With Curr Manager       -0.009197  0.202089                  0.014406   \n",
       "Training Times Last Year       0.023603 -0.019621                 -0.036942   \n",
       "DEPARTMENT                    -0.010895 -0.031882                  0.017225   \n",
       "JOB_ROLE                      -0.010336 -0.122427                 -0.001015   \n",
       "GENDER                         0.022556 -0.036311                 -0.001851   \n",
       "MARITAL_STATUS                -0.008155 -0.095029                 -0.014437   \n",
       "EDUCATION                      0.011117  0.151695                  0.002279   \n",
       "EDUCATION_FIELD               -0.002516 -0.040873                  0.002013   \n",
       "BUSINESS_TRAVEL               -0.015578  0.024751                 -0.024469   \n",
       "OVER_TIME                     -0.024037  0.028062                  0.025514   \n",
       "JOB_INVOLVEMENT                0.007819 -0.029606                 -0.003235   \n",
       "JOB_SATISFACTION              -0.025262 -0.008855                 -0.018902   \n",
       "ENVIRONMENT_SATISFACTION       0.048087  0.012615                 -0.003214   \n",
       "WORK_LIFE_BALANCE              0.022781  0.053259                 -0.000479   \n",
       "RELATIONSHIP_SATISFACTION     -0.022037  0.017829                  0.001923   \n",
       "ATTRITION                     -0.010577 -0.159205                  0.077924   \n",
       "\n",
       "                            Job Level  Monthly Income (USD)  Salary Hike (%)  \\\n",
       "Employee ID                 -0.018519             -0.014829        -0.000679   \n",
       "Age                          0.509604              0.497855         0.040287   \n",
       "Distance From Home (kms)     0.005303             -0.017014         0.015960   \n",
       "Job Level                    1.000000              0.950300         0.010361   \n",
       "Monthly Income (USD)         0.950300              1.000000         0.015050   \n",
       "Salary Hike (%)              0.010361              0.015050         1.000000   \n",
       "Stock Option Level           0.013984              0.005408         0.041906   \n",
       "No. of Companies Worked      0.142812              0.149919        -0.000315   \n",
       "Total Working Years          0.782208              0.772893         0.019554   \n",
       "Years At Company             0.534739              0.514285        -0.002812   \n",
       "Years In Current Role        0.389447              0.363818         0.031862   \n",
       "Years Since Last Promotion   0.353885              0.344978         0.001454   \n",
       "Years With Curr Manager      0.375281              0.344079         0.016776   \n",
       "Training Times Last Year    -0.018191             -0.021736         0.012065   \n",
       "DEPARTMENT                   0.101963              0.053130        -0.003468   \n",
       "JOB_ROLE                    -0.085457             -0.093951        -0.006373   \n",
       "GENDER                      -0.039403             -0.031858         0.006525   \n",
       "MARITAL_STATUS              -0.076769             -0.075450        -0.030629   \n",
       "EDUCATION                    0.044287              0.042130         0.021656   \n",
       "EDUCATION_FIELD             -0.044933             -0.041070        -0.020751   \n",
       "BUSINESS_TRAVEL              0.019311              0.034319        -0.020514   \n",
       "OVER_TIME                    0.000544              0.006089        -0.058527   \n",
       "JOB_INVOLVEMENT             -0.013308             -0.009777         0.024096   \n",
       "JOB_SATISFACTION            -0.006246             -0.001306         0.053503   \n",
       "ENVIRONMENT_SATISFACTION     0.000864             -0.002469        -0.030524   \n",
       "WORK_LIFE_BALANCE            0.074024              0.058829         0.053604   \n",
       "RELATIONSHIP_SATISFACTION    0.010637              0.004012         0.027229   \n",
       "ATTRITION                   -0.169105             -0.159840        -0.180424   \n",
       "\n",
       "                            Stock Option Level  No. of Companies Worked  \\\n",
       "Employee ID                           0.062227                 0.001532   \n",
       "Age                                   0.037510                 0.299358   \n",
       "Distance From Home (kms)              0.044872                -0.027640   \n",
       "Job Level                             0.013984                 0.142812   \n",
       "Monthly Income (USD)                  0.005408                 0.149919   \n",
       "Salary Hike (%)                       0.041906                -0.000315   \n",
       "Stock Option Level                    1.000000                 0.031647   \n",
       "No. of Companies Worked               0.031647                 1.000000   \n",
       "Total Working Years                   0.010136                 0.238689   \n",
       "Years At Company                      0.015058                -0.118331   \n",
       "Years In Current Role                 0.050818                -0.090788   \n",
       "Years Since Last Promotion            0.014352                -0.035758   \n",
       "Years With Curr Manager               0.024698                -0.110889   \n",
       "Training Times Last Year              0.011274                -0.062599   \n",
       "DEPARTMENT                           -0.012193                -0.038230   \n",
       "JOB_ROLE                             -0.019171                -0.058143   \n",
       "GENDER                                0.012716                -0.037202   \n",
       "MARITAL_STATUS                       -0.662577                -0.037584   \n",
       "EDUCATION                             0.026864                 0.074567   \n",
       "EDUCATION_FIELD                      -0.016185                -0.007142   \n",
       "BUSINESS_TRAVEL                      -0.016727                 0.019940   \n",
       "OVER_TIME                            -0.000449                -0.023423   \n",
       "JOB_INVOLVEMENT                       0.018631                -0.022430   \n",
       "JOB_SATISFACTION                      0.028158                -0.026721   \n",
       "ENVIRONMENT_SATISFACTION             -0.008417                 0.026142   \n",
       "WORK_LIFE_BALANCE                     0.094229                -0.039530   \n",
       "RELATIONSHIP_SATISFACTION            -0.036488                -0.004121   \n",
       "ATTRITION                            -0.137145                 0.039826   \n",
       "\n",
       "                            Total Working Years  Years At Company  ...  \\\n",
       "Employee ID                           -0.014365         -0.011240  ...   \n",
       "Age                                    0.680381          0.311309  ...   \n",
       "Distance From Home (kms)               0.004628          0.009508  ...   \n",
       "Job Level                              0.782208          0.534739  ...   \n",
       "Monthly Income (USD)                   0.772893          0.514285  ...   \n",
       "Salary Hike (%)                        0.019554         -0.002812  ...   \n",
       "Stock Option Level                     0.010136          0.015058  ...   \n",
       "No. of Companies Worked                0.238689         -0.118331  ...   \n",
       "Total Working Years                    1.000000          0.628133  ...   \n",
       "Years At Company                       0.628133          1.000000  ...   \n",
       "Years In Current Role                  0.460365          0.758754  ...   \n",
       "Years Since Last Promotion             0.404858          0.618409  ...   \n",
       "Years With Curr Manager                0.459188          0.769212  ...   \n",
       "Training Times Last Year              -0.035662          0.003569  ...   \n",
       "DEPARTMENT                            -0.015762          0.022920  ...   \n",
       "JOB_ROLE                              -0.145439         -0.083657  ...   \n",
       "GENDER                                -0.046881         -0.029747  ...   \n",
       "MARITAL_STATUS                        -0.077886         -0.059986  ...   \n",
       "EDUCATION                              0.080023          0.051637  ...   \n",
       "EDUCATION_FIELD                       -0.027848         -0.018692  ...   \n",
       "BUSINESS_TRAVEL                        0.034226         -0.014575  ...   \n",
       "OVER_TIME                              0.012754         -0.011687  ...   \n",
       "JOB_INVOLVEMENT                       -0.004730          0.015567  ...   \n",
       "JOB_SATISFACTION                       0.001197         -0.001113  ...   \n",
       "ENVIRONMENT_SATISFACTION               0.005600         -0.016220  ...   \n",
       "WORK_LIFE_BALANCE                      0.079180          0.060867  ...   \n",
       "RELATIONSHIP_SATISFACTION              0.001783          0.026859  ...   \n",
       "ATTRITION                             -0.171063         -0.134392  ...   \n",
       "\n",
       "                            EDUCATION  EDUCATION_FIELD  BUSINESS_TRAVEL  \\\n",
       "Employee ID                  0.011117        -0.002516        -0.015578   \n",
       "Age                          0.151695        -0.040873         0.024751   \n",
       "Distance From Home (kms)     0.002279         0.002013        -0.024469   \n",
       "Job Level                    0.044287        -0.044933         0.019311   \n",
       "Monthly Income (USD)         0.042130        -0.041070         0.034319   \n",
       "Salary Hike (%)              0.021656        -0.020751        -0.020514   \n",
       "Stock Option Level           0.026864        -0.016185        -0.016727   \n",
       "No. of Companies Worked      0.074567        -0.007142         0.019940   \n",
       "Total Working Years          0.080023        -0.027848         0.034226   \n",
       "Years At Company             0.051637        -0.018692        -0.014575   \n",
       "Years In Current Role        0.018309        -0.010506        -0.011497   \n",
       "Years Since Last Promotion   0.023356         0.002326        -0.032591   \n",
       "Years With Curr Manager      0.042929        -0.004130        -0.022636   \n",
       "Training Times Last Year    -0.019750         0.049195         0.015240   \n",
       "DEPARTMENT                   0.029469         0.013720        -0.009044   \n",
       "JOB_ROLE                     0.005481         0.015599         0.002724   \n",
       "GENDER                       0.010168        -0.002504        -0.032981   \n",
       "MARITAL_STATUS              -0.021771         0.014420         0.024001   \n",
       "EDUCATION                    1.000000        -0.016100        -0.023390   \n",
       "EDUCATION_FIELD             -0.016100         1.000000         0.023724   \n",
       "BUSINESS_TRAVEL             -0.023390         0.023724         1.000000   \n",
       "OVER_TIME                    0.030417         0.002259         0.016543   \n",
       "JOB_INVOLVEMENT             -0.007728        -0.011226         0.007908   \n",
       "JOB_SATISFACTION            -0.004882        -0.033745         0.016620   \n",
       "ENVIRONMENT_SATISFACTION     0.010788         0.006212         0.032230   \n",
       "WORK_LIFE_BALANCE           -0.022534        -0.007513         0.000098   \n",
       "RELATIONSHIP_SATISFACTION    0.030703         0.018191        -0.029276   \n",
       "ATTRITION                   -0.036376         0.026846         0.000074   \n",
       "\n",
       "                            OVER_TIME  JOB_INVOLVEMENT  JOB_SATISFACTION  \\\n",
       "Employee ID                 -0.024037         0.007819         -0.025262   \n",
       "Age                          0.028062        -0.029606         -0.008855   \n",
       "Distance From Home (kms)     0.025514        -0.003235         -0.018902   \n",
       "Job Level                    0.000544        -0.013308         -0.006246   \n",
       "Monthly Income (USD)         0.006089        -0.009777         -0.001306   \n",
       "Salary Hike (%)             -0.058527         0.024096          0.053503   \n",
       "Stock Option Level          -0.000449         0.018631          0.028158   \n",
       "No. of Companies Worked     -0.023423        -0.022430         -0.026721   \n",
       "Total Working Years          0.012754        -0.004730          0.001197   \n",
       "Years At Company            -0.011687         0.015567         -0.001113   \n",
       "Years In Current Role       -0.029758        -0.002043         -0.011645   \n",
       "Years Since Last Promotion  -0.012239        -0.015023         -0.001902   \n",
       "Years With Curr Manager     -0.041586         0.014039         -0.002996   \n",
       "Training Times Last Year    -0.079113        -0.034024          0.023774   \n",
       "DEPARTMENT                   0.007481        -0.039241          0.018074   \n",
       "JOB_ROLE                     0.040662        -0.031811          0.011917   \n",
       "GENDER                      -0.041924        -0.002516          0.029035   \n",
       "MARITAL_STATUS              -0.017521         0.004174          0.016463   \n",
       "EDUCATION                    0.030417        -0.007728         -0.004882   \n",
       "EDUCATION_FIELD              0.002259        -0.011226         -0.033745   \n",
       "BUSINESS_TRAVEL              0.016543         0.007908          0.016620   \n",
       "OVER_TIME                    1.000000         0.000019          0.022449   \n",
       "JOB_INVOLVEMENT              0.000019         1.000000         -0.009424   \n",
       "JOB_SATISFACTION             0.022449        -0.009424          1.000000   \n",
       "ENVIRONMENT_SATISFACTION     0.027566        -0.018335          0.005851   \n",
       "WORK_LIFE_BALANCE           -0.067749         0.016453          0.048761   \n",
       "RELATIONSHIP_SATISFACTION   -0.010063        -0.001855         -0.010770   \n",
       "ATTRITION                    0.246118         0.008467         -0.068354   \n",
       "\n",
       "                            ENVIRONMENT_SATISFACTION  WORK_LIFE_BALANCE  \\\n",
       "Employee ID                                 0.048087           0.022781   \n",
       "Age                                         0.012615           0.053259   \n",
       "Distance From Home (kms)                   -0.003214          -0.000479   \n",
       "Job Level                                   0.000864           0.074024   \n",
       "Monthly Income (USD)                       -0.002469           0.058829   \n",
       "Salary Hike (%)                            -0.030524           0.053604   \n",
       "Stock Option Level                         -0.008417           0.094229   \n",
       "No. of Companies Worked                     0.026142          -0.039530   \n",
       "Total Working Years                         0.005600           0.079180   \n",
       "Years At Company                           -0.016220           0.060867   \n",
       "Years In Current Role                      -0.006973           0.048119   \n",
       "Years Since Last Promotion                  0.002800           0.019254   \n",
       "Years With Curr Manager                    -0.001755           0.054344   \n",
       "Training Times Last Year                   -0.031678           0.031342   \n",
       "DEPARTMENT                                  0.014225           0.009811   \n",
       "JOB_ROLE                                    0.015982           0.011010   \n",
       "GENDER                                      0.021320          -0.021822   \n",
       "MARITAL_STATUS                              0.014287          -0.093002   \n",
       "EDUCATION                                   0.010788          -0.022534   \n",
       "EDUCATION_FIELD                             0.006212          -0.007513   \n",
       "BUSINESS_TRAVEL                             0.032230           0.000098   \n",
       "OVER_TIME                                   0.027566          -0.067749   \n",
       "JOB_INVOLVEMENT                            -0.018335           0.016453   \n",
       "JOB_SATISFACTION                            0.005851           0.048761   \n",
       "ENVIRONMENT_SATISFACTION                    1.000000           0.023583   \n",
       "WORK_LIFE_BALANCE                           0.023583           1.000000   \n",
       "RELATIONSHIP_SATISFACTION                   0.017927           0.018100   \n",
       "ATTRITION                                  -0.027068          -0.339756   \n",
       "\n",
       "                            RELATIONSHIP_SATISFACTION  ATTRITION  \n",
       "Employee ID                                 -0.022037  -0.010577  \n",
       "Age                                          0.017829  -0.159205  \n",
       "Distance From Home (kms)                     0.001923   0.077924  \n",
       "Job Level                                    0.010637  -0.169105  \n",
       "Monthly Income (USD)                         0.004012  -0.159840  \n",
       "Salary Hike (%)                              0.027229  -0.180424  \n",
       "Stock Option Level                          -0.036488  -0.137145  \n",
       "No. of Companies Worked                     -0.004121   0.039826  \n",
       "Total Working Years                          0.001783  -0.171063  \n",
       "Years At Company                             0.026859  -0.134392  \n",
       "Years In Current Role                        0.028319  -0.160545  \n",
       "Years Since Last Promotion                   0.072808  -0.033019  \n",
       "Years With Curr Manager                      0.038538  -0.156199  \n",
       "Training Times Last Year                     0.007251  -0.059478  \n",
       "DEPARTMENT                                   0.003054   0.063991  \n",
       "JOB_ROLE                                     0.034202   0.067151  \n",
       "GENDER                                       0.022645   0.029453  \n",
       "MARITAL_STATUS                               0.037633   0.162070  \n",
       "EDUCATION                                    0.030703  -0.036376  \n",
       "EDUCATION_FIELD                              0.018191   0.026846  \n",
       "BUSINESS_TRAVEL                             -0.029276   0.000074  \n",
       "OVER_TIME                                   -0.010063   0.246118  \n",
       "JOB_INVOLVEMENT                             -0.001855   0.008467  \n",
       "JOB_SATISFACTION                            -0.010770  -0.068354  \n",
       "ENVIRONMENT_SATISFACTION                     0.017927  -0.027068  \n",
       "WORK_LIFE_BALANCE                            0.018100  -0.339756  \n",
       "RELATIONSHIP_SATISFACTION                    1.000000  -0.108324  \n",
       "ATTRITION                                   -0.108324   1.000000  \n",
       "\n",
       "[28 rows x 28 columns]"
      ]
     },
     "execution_count": 45,
     "metadata": {},
     "output_type": "execute_result"
    }
   ],
   "source": [
    "DF_NEW.corr(method='pearson', min_periods=1)"
   ]
  },
  {
   "cell_type": "code",
   "execution_count": 46,
   "metadata": {},
   "outputs": [
    {
     "data": {
      "image/png": "[encoded data removed]",
      "text/plain": [
       "<Figure size 2160x2160 with 2 Axes>"
      ]
     },
     "metadata": {
      "needs_background": "light"
     },
     "output_type": "display_data"
    }
   ],
   "source": [
    "import seaborn as sns\n",
    "fig, ax = plt.subplots(figsize=(30,30)) \n",
    "sns.heatmap(DF_NEW.corr(),annot=True)\n",
    "plt.show()"
   ]
  },
  {
   "cell_type": "markdown",
   "metadata": {},
   "source": [
    "    "
   ]
  },
  {
   "cell_type": "markdown",
   "metadata": {},
   "source": [
    "### Thereby implying that Marital Status and Over Time are the crucial factors that play a significant role in whether the employee is staying in the company or has left."
   ]
  },
  {
   "cell_type": "markdown",
   "metadata": {},
   "source": [
    "  "
   ]
  },
  {
   "cell_type": "markdown",
   "metadata": {},
   "source": [
    "## Input and Output"
   ]
  },
  {
   "cell_type": "markdown",
   "metadata": {},
   "source": [
    "   "
   ]
  },
  {
   "cell_type": "code",
   "execution_count": 47,
   "metadata": {},
   "outputs": [],
   "source": [
    "X = DF_NEW[['Distance From Home (kms)', 'DEPARTMENT', 'JOB_ROLE', 'MARITAL_STATUS', 'OVER_TIME']]"
   ]
  },
  {
   "cell_type": "code",
   "execution_count": 48,
   "metadata": {},
   "outputs": [
    {
     "data": {
      "text/html": [
       "<div>\n",
       "<style scoped>\n",
       "    .dataframe tbody tr th:only-of-type {\n",
       "        vertical-align: middle;\n",
       "    }\n",
       "\n",
       "    .dataframe tbody tr th {\n",
       "        vertical-align: top;\n",
       "    }\n",
       "\n",
       "    .dataframe thead th {\n",
       "        text-align: right;\n",
       "    }\n",
       "</style>\n",
       "<table border=\"1\" class=\"dataframe\">\n",
       "  <thead>\n",
       "    <tr style=\"text-align: right;\">\n",
       "      <th></th>\n",
       "      <th>Distance From Home (kms)</th>\n",
       "      <th>DEPARTMENT</th>\n",
       "      <th>JOB_ROLE</th>\n",
       "      <th>MARITAL_STATUS</th>\n",
       "      <th>OVER_TIME</th>\n",
       "    </tr>\n",
       "  </thead>\n",
       "  <tbody>\n",
       "    <tr>\n",
       "      <th>0</th>\n",
       "      <td>1</td>\n",
       "      <td>2</td>\n",
       "      <td>7</td>\n",
       "      <td>2</td>\n",
       "      <td>1</td>\n",
       "    </tr>\n",
       "    <tr>\n",
       "      <th>1</th>\n",
       "      <td>8</td>\n",
       "      <td>1</td>\n",
       "      <td>6</td>\n",
       "      <td>1</td>\n",
       "      <td>0</td>\n",
       "    </tr>\n",
       "    <tr>\n",
       "      <th>2</th>\n",
       "      <td>2</td>\n",
       "      <td>1</td>\n",
       "      <td>2</td>\n",
       "      <td>2</td>\n",
       "      <td>1</td>\n",
       "    </tr>\n",
       "    <tr>\n",
       "      <th>3</th>\n",
       "      <td>3</td>\n",
       "      <td>1</td>\n",
       "      <td>6</td>\n",
       "      <td>1</td>\n",
       "      <td>1</td>\n",
       "    </tr>\n",
       "    <tr>\n",
       "      <th>4</th>\n",
       "      <td>2</td>\n",
       "      <td>1</td>\n",
       "      <td>2</td>\n",
       "      <td>1</td>\n",
       "      <td>0</td>\n",
       "    </tr>\n",
       "  </tbody>\n",
       "</table>\n",
       "</div>"
      ],
      "text/plain": [
       "   Distance From Home (kms)  DEPARTMENT  JOB_ROLE  MARITAL_STATUS  OVER_TIME\n",
       "0                         1           2         7               2          1\n",
       "1                         8           1         6               1          0\n",
       "2                         2           1         2               2          1\n",
       "3                         3           1         6               1          1\n",
       "4                         2           1         2               1          0"
      ]
     },
     "execution_count": 48,
     "metadata": {},
     "output_type": "execute_result"
    }
   ],
   "source": [
    "X.head()"
   ]
  },
  {
   "cell_type": "code",
   "execution_count": 49,
   "metadata": {},
   "outputs": [
    {
     "data": {
      "text/html": [
       "<div>\n",
       "<style scoped>\n",
       "    .dataframe tbody tr th:only-of-type {\n",
       "        vertical-align: middle;\n",
       "    }\n",
       "\n",
       "    .dataframe tbody tr th {\n",
       "        vertical-align: top;\n",
       "    }\n",
       "\n",
       "    .dataframe thead th {\n",
       "        text-align: right;\n",
       "    }\n",
       "</style>\n",
       "<table border=\"1\" class=\"dataframe\">\n",
       "  <thead>\n",
       "    <tr style=\"text-align: right;\">\n",
       "      <th></th>\n",
       "      <th>Distance From Home (kms)</th>\n",
       "      <th>DEPARTMENT</th>\n",
       "      <th>JOB_ROLE</th>\n",
       "      <th>MARITAL_STATUS</th>\n",
       "      <th>OVER_TIME</th>\n",
       "    </tr>\n",
       "  </thead>\n",
       "  <tbody>\n",
       "    <tr>\n",
       "      <th>1465</th>\n",
       "      <td>23</td>\n",
       "      <td>1</td>\n",
       "      <td>2</td>\n",
       "      <td>1</td>\n",
       "      <td>0</td>\n",
       "    </tr>\n",
       "    <tr>\n",
       "      <th>1466</th>\n",
       "      <td>6</td>\n",
       "      <td>1</td>\n",
       "      <td>0</td>\n",
       "      <td>1</td>\n",
       "      <td>0</td>\n",
       "    </tr>\n",
       "    <tr>\n",
       "      <th>1467</th>\n",
       "      <td>4</td>\n",
       "      <td>1</td>\n",
       "      <td>4</td>\n",
       "      <td>1</td>\n",
       "      <td>1</td>\n",
       "    </tr>\n",
       "    <tr>\n",
       "      <th>1468</th>\n",
       "      <td>2</td>\n",
       "      <td>2</td>\n",
       "      <td>7</td>\n",
       "      <td>1</td>\n",
       "      <td>0</td>\n",
       "    </tr>\n",
       "    <tr>\n",
       "      <th>1469</th>\n",
       "      <td>8</td>\n",
       "      <td>1</td>\n",
       "      <td>2</td>\n",
       "      <td>1</td>\n",
       "      <td>0</td>\n",
       "    </tr>\n",
       "  </tbody>\n",
       "</table>\n",
       "</div>"
      ],
      "text/plain": [
       "      Distance From Home (kms)  DEPARTMENT  JOB_ROLE  MARITAL_STATUS  \\\n",
       "1465                        23           1         2               1   \n",
       "1466                         6           1         0               1   \n",
       "1467                         4           1         4               1   \n",
       "1468                         2           2         7               1   \n",
       "1469                         8           1         2               1   \n",
       "\n",
       "      OVER_TIME  \n",
       "1465          0  \n",
       "1466          0  \n",
       "1467          1  \n",
       "1468          0  \n",
       "1469          0  "
      ]
     },
     "execution_count": 49,
     "metadata": {},
     "output_type": "execute_result"
    }
   ],
   "source": [
    "X.tail()"
   ]
  },
  {
   "cell_type": "code",
   "execution_count": 50,
   "metadata": {},
   "outputs": [],
   "source": [
    "Y = DF_NEW[['ATTRITION']]"
   ]
  },
  {
   "cell_type": "code",
   "execution_count": 51,
   "metadata": {},
   "outputs": [
    {
     "data": {
      "text/html": [
       "<div>\n",
       "<style scoped>\n",
       "    .dataframe tbody tr th:only-of-type {\n",
       "        vertical-align: middle;\n",
       "    }\n",
       "\n",
       "    .dataframe tbody tr th {\n",
       "        vertical-align: top;\n",
       "    }\n",
       "\n",
       "    .dataframe thead th {\n",
       "        text-align: right;\n",
       "    }\n",
       "</style>\n",
       "<table border=\"1\" class=\"dataframe\">\n",
       "  <thead>\n",
       "    <tr style=\"text-align: right;\">\n",
       "      <th></th>\n",
       "      <th>ATTRITION</th>\n",
       "    </tr>\n",
       "  </thead>\n",
       "  <tbody>\n",
       "    <tr>\n",
       "      <th>0</th>\n",
       "      <td>1</td>\n",
       "    </tr>\n",
       "    <tr>\n",
       "      <th>1</th>\n",
       "      <td>0</td>\n",
       "    </tr>\n",
       "    <tr>\n",
       "      <th>2</th>\n",
       "      <td>1</td>\n",
       "    </tr>\n",
       "    <tr>\n",
       "      <th>3</th>\n",
       "      <td>0</td>\n",
       "    </tr>\n",
       "    <tr>\n",
       "      <th>4</th>\n",
       "      <td>0</td>\n",
       "    </tr>\n",
       "  </tbody>\n",
       "</table>\n",
       "</div>"
      ],
      "text/plain": [
       "   ATTRITION\n",
       "0          1\n",
       "1          0\n",
       "2          1\n",
       "3          0\n",
       "4          0"
      ]
     },
     "execution_count": 51,
     "metadata": {},
     "output_type": "execute_result"
    }
   ],
   "source": [
    "Y.head()"
   ]
  },
  {
   "cell_type": "code",
   "execution_count": 52,
   "metadata": {},
   "outputs": [
    {
     "data": {
      "text/html": [
       "<div>\n",
       "<style scoped>\n",
       "    .dataframe tbody tr th:only-of-type {\n",
       "        vertical-align: middle;\n",
       "    }\n",
       "\n",
       "    .dataframe tbody tr th {\n",
       "        vertical-align: top;\n",
       "    }\n",
       "\n",
       "    .dataframe thead th {\n",
       "        text-align: right;\n",
       "    }\n",
       "</style>\n",
       "<table border=\"1\" class=\"dataframe\">\n",
       "  <thead>\n",
       "    <tr style=\"text-align: right;\">\n",
       "      <th></th>\n",
       "      <th>ATTRITION</th>\n",
       "    </tr>\n",
       "  </thead>\n",
       "  <tbody>\n",
       "    <tr>\n",
       "      <th>1465</th>\n",
       "      <td>0</td>\n",
       "    </tr>\n",
       "    <tr>\n",
       "      <th>1466</th>\n",
       "      <td>0</td>\n",
       "    </tr>\n",
       "    <tr>\n",
       "      <th>1467</th>\n",
       "      <td>0</td>\n",
       "    </tr>\n",
       "    <tr>\n",
       "      <th>1468</th>\n",
       "      <td>0</td>\n",
       "    </tr>\n",
       "    <tr>\n",
       "      <th>1469</th>\n",
       "      <td>0</td>\n",
       "    </tr>\n",
       "  </tbody>\n",
       "</table>\n",
       "</div>"
      ],
      "text/plain": [
       "      ATTRITION\n",
       "1465          0\n",
       "1466          0\n",
       "1467          0\n",
       "1468          0\n",
       "1469          0"
      ]
     },
     "execution_count": 52,
     "metadata": {},
     "output_type": "execute_result"
    }
   ],
   "source": [
    "Y.tail()"
   ]
  },
  {
   "cell_type": "markdown",
   "metadata": {},
   "source": [
    "   "
   ]
  },
  {
   "cell_type": "markdown",
   "metadata": {},
   "source": [
    "## Splitting the data into Training and Testing sets"
   ]
  },
  {
   "cell_type": "markdown",
   "metadata": {},
   "source": [
    "    "
   ]
  },
  {
   "cell_type": "code",
   "execution_count": 53,
   "metadata": {},
   "outputs": [],
   "source": [
    "from sklearn.model_selection import train_test_split"
   ]
  },
  {
   "cell_type": "code",
   "execution_count": 54,
   "metadata": {},
   "outputs": [],
   "source": [
    "algo_scores=[]\n",
    "algo_names=[]"
   ]
  },
  {
   "cell_type": "code",
   "execution_count": 55,
   "metadata": {},
   "outputs": [],
   "source": [
    "X_train , X_test , Y_train , Y_test   = train_test_split(X,Y,test_size=0.2)"
   ]
  },
  {
   "cell_type": "code",
   "execution_count": 56,
   "metadata": {},
   "outputs": [
    {
     "data": {
      "text/plain": [
       "(1176, 294, 1176, 294)"
      ]
     },
     "execution_count": 56,
     "metadata": {},
     "output_type": "execute_result"
    }
   ],
   "source": [
    "len(X_train), len(X_test), len(Y_train), len(Y_test)"
   ]
  },
  {
   "cell_type": "markdown",
   "metadata": {},
   "source": [
    "   "
   ]
  },
  {
   "cell_type": "markdown",
   "metadata": {},
   "source": [
    "## Model Training"
   ]
  },
  {
   "cell_type": "markdown",
   "metadata": {},
   "source": [
    "  "
   ]
  },
  {
   "cell_type": "markdown",
   "metadata": {},
   "source": [
    "### Importing all the model libraries"
   ]
  },
  {
   "cell_type": "markdown",
   "metadata": {},
   "source": [
    "   "
   ]
  },
  {
   "cell_type": "code",
   "execution_count": 57,
   "metadata": {},
   "outputs": [],
   "source": [
    "from sklearn import tree\n",
    "from sklearn.linear_model import LogisticRegression\n",
    "from sklearn.ensemble import RandomForestClassifier\n",
    "from sklearn.svm import SVC\n",
    "from sklearn.neighbors import KNeighborsClassifier"
   ]
  },
  {
   "cell_type": "markdown",
   "metadata": {},
   "source": [
    "   "
   ]
  },
  {
   "cell_type": "markdown",
   "metadata": {},
   "source": [
    "### 1. Decision Tree"
   ]
  },
  {
   "cell_type": "markdown",
   "metadata": {},
   "source": [
    "   "
   ]
  },
  {
   "cell_type": "code",
   "execution_count": 58,
   "metadata": {},
   "outputs": [],
   "source": [
    "model1 = tree.DecisionTreeClassifier()"
   ]
  },
  {
   "cell_type": "code",
   "execution_count": 59,
   "metadata": {},
   "outputs": [
    {
     "data": {
      "text/plain": [
       "DecisionTreeClassifier()"
      ]
     },
     "execution_count": 59,
     "metadata": {},
     "output_type": "execute_result"
    }
   ],
   "source": [
    "model1.fit(X,Y)"
   ]
  },
  {
   "cell_type": "code",
   "execution_count": 60,
   "metadata": {},
   "outputs": [],
   "source": [
    "algo_names.append(\"Decision Tree\")\n",
    "algo_scores.append(model1.score(X_test,Y_test))"
   ]
  },
  {
   "cell_type": "markdown",
   "metadata": {},
   "source": [
    "   "
   ]
  },
  {
   "cell_type": "markdown",
   "metadata": {},
   "source": [
    "### 2. Logistic Regression"
   ]
  },
  {
   "cell_type": "markdown",
   "metadata": {},
   "source": [
    "   "
   ]
  },
  {
   "cell_type": "code",
   "execution_count": 61,
   "metadata": {},
   "outputs": [],
   "source": [
    "model2 = LogisticRegression()"
   ]
  },
  {
   "cell_type": "code",
   "execution_count": 62,
   "metadata": {},
   "outputs": [
    {
     "data": {
      "text/plain": [
       "LogisticRegression()"
      ]
     },
     "execution_count": 62,
     "metadata": {},
     "output_type": "execute_result"
    }
   ],
   "source": [
    "model2.fit(X,Y)"
   ]
  },
  {
   "cell_type": "code",
   "execution_count": 63,
   "metadata": {},
   "outputs": [],
   "source": [
    "algo_names.append(\"Logistic Regression\")\n",
    "algo_scores.append(model2.score(X_test,Y_test))"
   ]
  },
  {
   "cell_type": "markdown",
   "metadata": {},
   "source": [
    "   "
   ]
  },
  {
   "cell_type": "markdown",
   "metadata": {},
   "source": [
    "### 3. KNN"
   ]
  },
  {
   "cell_type": "markdown",
   "metadata": {},
   "source": [
    "   "
   ]
  },
  {
   "cell_type": "code",
   "execution_count": 64,
   "metadata": {},
   "outputs": [],
   "source": [
    "model3 = KNeighborsClassifier(n_neighbors = 5, metric = 'minkowski', p = 2)"
   ]
  },
  {
   "cell_type": "code",
   "execution_count": 65,
   "metadata": {},
   "outputs": [
    {
     "data": {
      "text/plain": [
       "KNeighborsClassifier()"
      ]
     },
     "execution_count": 65,
     "metadata": {},
     "output_type": "execute_result"
    }
   ],
   "source": [
    "model3.fit(X,Y)"
   ]
  },
  {
   "cell_type": "code",
   "execution_count": 66,
   "metadata": {},
   "outputs": [],
   "source": [
    "algo_names.append(\"KNN\")\n",
    "algo_scores.append(model3.score(X_test,Y_test))"
   ]
  },
  {
   "cell_type": "markdown",
   "metadata": {},
   "source": [
    "   "
   ]
  },
  {
   "cell_type": "markdown",
   "metadata": {},
   "source": [
    "### 4. SVM"
   ]
  },
  {
   "cell_type": "markdown",
   "metadata": {},
   "source": [
    "   "
   ]
  },
  {
   "cell_type": "code",
   "execution_count": 67,
   "metadata": {},
   "outputs": [],
   "source": [
    "model4 = SVC()"
   ]
  },
  {
   "cell_type": "code",
   "execution_count": 68,
   "metadata": {},
   "outputs": [
    {
     "data": {
      "text/plain": [
       "SVC()"
      ]
     },
     "execution_count": 68,
     "metadata": {},
     "output_type": "execute_result"
    }
   ],
   "source": [
    "model4.fit(X,Y)"
   ]
  },
  {
   "cell_type": "code",
   "execution_count": 69,
   "metadata": {},
   "outputs": [],
   "source": [
    "algo_names.append(\"SVM\")\n",
    "algo_scores.append(model4.score(X_test,Y_test))"
   ]
  },
  {
   "cell_type": "markdown",
   "metadata": {},
   "source": [
    "   "
   ]
  },
  {
   "cell_type": "markdown",
   "metadata": {},
   "source": [
    "### 5. Random Forest"
   ]
  },
  {
   "cell_type": "markdown",
   "metadata": {},
   "source": [
    "   "
   ]
  },
  {
   "cell_type": "code",
   "execution_count": 70,
   "metadata": {},
   "outputs": [],
   "source": [
    "model5 = RandomForestClassifier()"
   ]
  },
  {
   "cell_type": "code",
   "execution_count": 71,
   "metadata": {},
   "outputs": [
    {
     "data": {
      "text/plain": [
       "RandomForestClassifier()"
      ]
     },
     "execution_count": 71,
     "metadata": {},
     "output_type": "execute_result"
    }
   ],
   "source": [
    "model5.fit(X,Y)"
   ]
  },
  {
   "cell_type": "code",
   "execution_count": 72,
   "metadata": {},
   "outputs": [],
   "source": [
    "algo_names.append(\"Random Forest\")\n",
    "algo_scores.append(model5.score(X_test,Y_test))"
   ]
  },
  {
   "cell_type": "markdown",
   "metadata": {},
   "source": [
    "   "
   ]
  },
  {
   "cell_type": "code",
   "execution_count": 73,
   "metadata": {},
   "outputs": [
    {
     "data": {
      "text/plain": [
       "['Decision Tree', 'Logistic Regression', 'KNN', 'SVM', 'Random Forest']"
      ]
     },
     "execution_count": 73,
     "metadata": {},
     "output_type": "execute_result"
    }
   ],
   "source": [
    "algo_names"
   ]
  },
  {
   "cell_type": "code",
   "execution_count": 74,
   "metadata": {},
   "outputs": [
    {
     "data": {
      "text/plain": [
       "[0.9183673469387755,\n",
       " 0.8673469387755102,\n",
       " 0.8809523809523809,\n",
       " 0.8503401360544217,\n",
       " 0.9149659863945578]"
      ]
     },
     "execution_count": 74,
     "metadata": {},
     "output_type": "execute_result"
    }
   ],
   "source": [
    "algo_scores"
   ]
  },
  {
   "cell_type": "markdown",
   "metadata": {},
   "source": [
    "## Accuracy"
   ]
  },
  {
   "cell_type": "markdown",
   "metadata": {},
   "source": [
    "   "
   ]
  },
  {
   "cell_type": "code",
   "execution_count": 75,
   "metadata": {},
   "outputs": [],
   "source": [
    "from sklearn import metrics"
   ]
  },
  {
   "cell_type": "markdown",
   "metadata": {},
   "source": [
    "   "
   ]
  },
  {
   "cell_type": "code",
   "execution_count": 76,
   "metadata": {},
   "outputs": [
    {
     "data": {
      "text/plain": [
       "0.9095238095238095"
      ]
     },
     "execution_count": 76,
     "metadata": {},
     "output_type": "execute_result"
    }
   ],
   "source": [
    "model1.score(X,Y)"
   ]
  },
  {
   "cell_type": "markdown",
   "metadata": {},
   "source": [
    "    "
   ]
  },
  {
   "cell_type": "markdown",
   "metadata": {},
   "source": [
    "#### Model 1 = Score of Decision Tree Model = 91%"
   ]
  },
  {
   "cell_type": "markdown",
   "metadata": {},
   "source": [
    "   "
   ]
  },
  {
   "cell_type": "code",
   "execution_count": 77,
   "metadata": {},
   "outputs": [
    {
     "data": {
      "text/plain": [
       "0.8482993197278912"
      ]
     },
     "execution_count": 77,
     "metadata": {},
     "output_type": "execute_result"
    }
   ],
   "source": [
    "model2.score(X,Y)"
   ]
  },
  {
   "cell_type": "markdown",
   "metadata": {},
   "source": [
    "   "
   ]
  },
  {
   "cell_type": "markdown",
   "metadata": {},
   "source": [
    "#### Model 2 = Score of Logistic Regression Model = 85%"
   ]
  },
  {
   "cell_type": "markdown",
   "metadata": {},
   "source": [
    "   "
   ]
  },
  {
   "cell_type": "code",
   "execution_count": 78,
   "metadata": {},
   "outputs": [
    {
     "data": {
      "text/plain": [
       "0.8666666666666667"
      ]
     },
     "execution_count": 78,
     "metadata": {},
     "output_type": "execute_result"
    }
   ],
   "source": [
    "model3.score(X,Y)"
   ]
  },
  {
   "cell_type": "markdown",
   "metadata": {},
   "source": [
    "   "
   ]
  },
  {
   "cell_type": "markdown",
   "metadata": {},
   "source": [
    "#### Model 3 = Score of KNN Model = 87%"
   ]
  },
  {
   "cell_type": "markdown",
   "metadata": {},
   "source": [
    "   "
   ]
  },
  {
   "cell_type": "code",
   "execution_count": 79,
   "metadata": {},
   "outputs": [
    {
     "data": {
      "text/plain": [
       "0.8387755102040816"
      ]
     },
     "execution_count": 79,
     "metadata": {},
     "output_type": "execute_result"
    }
   ],
   "source": [
    "model4.score(X,Y)"
   ]
  },
  {
   "cell_type": "markdown",
   "metadata": {},
   "source": [
    "   "
   ]
  },
  {
   "cell_type": "markdown",
   "metadata": {},
   "source": [
    "#### Model 4 = Score of SVM Model = 84%"
   ]
  },
  {
   "cell_type": "markdown",
   "metadata": {},
   "source": [
    "   "
   ]
  },
  {
   "cell_type": "code",
   "execution_count": 80,
   "metadata": {},
   "outputs": [
    {
     "data": {
      "text/plain": [
       "0.9095238095238095"
      ]
     },
     "execution_count": 80,
     "metadata": {},
     "output_type": "execute_result"
    }
   ],
   "source": [
    "model5.score(X,Y)"
   ]
  },
  {
   "cell_type": "markdown",
   "metadata": {},
   "source": [
    "   "
   ]
  },
  {
   "cell_type": "markdown",
   "metadata": {},
   "source": [
    "#### Model 5 = Score of Random Forest Model = 91%"
   ]
  },
  {
   "cell_type": "markdown",
   "metadata": {},
   "source": [
    "   "
   ]
  },
  {
   "cell_type": "markdown",
   "metadata": {},
   "source": [
    "## COMPARING THE CLASSIFICATION SCORE OF DIFFERENT ALGORITHMS USING BAR GRAPH"
   ]
  },
  {
   "cell_type": "code",
   "execution_count": 81,
   "metadata": {
    "scrolled": false
   },
   "outputs": [
    {
     "data": {
      "text/plain": [
       "Text(0, 0.5, 'Algorithm Score')"
      ]
     },
     "execution_count": 81,
     "metadata": {},
     "output_type": "execute_result"
    },
    {
     "data": {
      "image/png": "[encoded data removed]",
      "text/plain": [
       "<Figure size 720x720 with 1 Axes>"
      ]
     },
     "metadata": {
      "needs_background": "light"
     },
     "output_type": "display_data"
    }
   ],
   "source": [
    "plt.figure(figsize=(10,10))\n",
    "plt.ylim([0,1.5])\n",
    "plt.bar(algo_names,algo_scores,width=0.5,color= ['orange'])\n",
    "plt.xlabel('Algorithm Name')\n",
    "plt.ylabel('Algorithm Score')"
   ]
  },
  {
   "cell_type": "markdown",
   "metadata": {},
   "source": [
    "   "
   ]
  },
  {
   "cell_type": "markdown",
   "metadata": {},
   "source": [
    "## Accuracy Score"
   ]
  },
  {
   "cell_type": "markdown",
   "metadata": {},
   "source": [
    "   "
   ]
  },
  {
   "cell_type": "code",
   "execution_count": 82,
   "metadata": {},
   "outputs": [],
   "source": [
    "prediction_model = []\n",
    "prediction_score = []"
   ]
  },
  {
   "cell_type": "code",
   "execution_count": 83,
   "metadata": {},
   "outputs": [
    {
     "data": {
      "text/plain": [
       "0.9183673469387755"
      ]
     },
     "execution_count": 83,
     "metadata": {},
     "output_type": "execute_result"
    }
   ],
   "source": [
    "p1 = model1.predict(X_test)\n",
    "metrics.accuracy_score(Y_test,p1)"
   ]
  },
  {
   "cell_type": "code",
   "execution_count": 84,
   "metadata": {},
   "outputs": [],
   "source": [
    "prediction_model.append(\"p1\")\n",
    "prediction_score.append(metrics.accuracy_score(Y_test,p1))"
   ]
  },
  {
   "cell_type": "markdown",
   "metadata": {},
   "source": [
    "   "
   ]
  },
  {
   "cell_type": "markdown",
   "metadata": {},
   "source": [
    "#### Accuracy Score of Decision Tree = 91%"
   ]
  },
  {
   "cell_type": "markdown",
   "metadata": {},
   "source": [
    "   "
   ]
  },
  {
   "cell_type": "code",
   "execution_count": 85,
   "metadata": {},
   "outputs": [
    {
     "data": {
      "text/plain": [
       "0.8673469387755102"
      ]
     },
     "execution_count": 85,
     "metadata": {},
     "output_type": "execute_result"
    }
   ],
   "source": [
    "p2 = model2.predict(X_test)\n",
    "metrics.accuracy_score(Y_test,p2)"
   ]
  },
  {
   "cell_type": "code",
   "execution_count": 86,
   "metadata": {},
   "outputs": [],
   "source": [
    "prediction_model.append(\"p2\")\n",
    "prediction_score.append(metrics.accuracy_score(Y_test,p2))"
   ]
  },
  {
   "cell_type": "markdown",
   "metadata": {},
   "source": [
    "   "
   ]
  },
  {
   "cell_type": "markdown",
   "metadata": {},
   "source": [
    "#### Accuracy Score of Logistic Regression = 85%"
   ]
  },
  {
   "cell_type": "markdown",
   "metadata": {},
   "source": [
    "   "
   ]
  },
  {
   "cell_type": "code",
   "execution_count": 87,
   "metadata": {},
   "outputs": [
    {
     "data": {
      "text/plain": [
       "0.8809523809523809"
      ]
     },
     "execution_count": 87,
     "metadata": {},
     "output_type": "execute_result"
    }
   ],
   "source": [
    "p3 = model3.predict(X_test)\n",
    "metrics.accuracy_score(Y_test,p3)"
   ]
  },
  {
   "cell_type": "code",
   "execution_count": 88,
   "metadata": {},
   "outputs": [],
   "source": [
    "prediction_model.append(\"p3\")\n",
    "prediction_score.append(metrics.accuracy_score(Y_test,p3))"
   ]
  },
  {
   "cell_type": "markdown",
   "metadata": {},
   "source": [
    "      "
   ]
  },
  {
   "cell_type": "markdown",
   "metadata": {},
   "source": [
    "#### Accuracy Score of KNN = 86%"
   ]
  },
  {
   "cell_type": "markdown",
   "metadata": {},
   "source": [
    "   "
   ]
  },
  {
   "cell_type": "code",
   "execution_count": 89,
   "metadata": {},
   "outputs": [
    {
     "data": {
      "text/plain": [
       "0.8503401360544217"
      ]
     },
     "execution_count": 89,
     "metadata": {},
     "output_type": "execute_result"
    }
   ],
   "source": [
    "p4 = model4.predict(X_test)\n",
    "metrics.accuracy_score(Y_test,p4)"
   ]
  },
  {
   "cell_type": "code",
   "execution_count": 90,
   "metadata": {},
   "outputs": [],
   "source": [
    "prediction_model.append(\"p4\")\n",
    "prediction_score.append(metrics.accuracy_score(Y_test,p4))"
   ]
  },
  {
   "cell_type": "markdown",
   "metadata": {},
   "source": [
    "   "
   ]
  },
  {
   "cell_type": "markdown",
   "metadata": {},
   "source": [
    "#### Accuracy Score of SVM = 83%"
   ]
  },
  {
   "cell_type": "markdown",
   "metadata": {},
   "source": [
    "   "
   ]
  },
  {
   "cell_type": "code",
   "execution_count": 91,
   "metadata": {
    "scrolled": true
   },
   "outputs": [
    {
     "data": {
      "text/plain": [
       "0.9149659863945578"
      ]
     },
     "execution_count": 91,
     "metadata": {},
     "output_type": "execute_result"
    }
   ],
   "source": [
    "p5 = model5.predict(X_test)\n",
    "metrics.accuracy_score(Y_test,p5)"
   ]
  },
  {
   "cell_type": "code",
   "execution_count": 92,
   "metadata": {},
   "outputs": [],
   "source": [
    "prediction_model.append(\"p5\")\n",
    "prediction_score.append(metrics.accuracy_score(Y_test,p5))"
   ]
  },
  {
   "cell_type": "markdown",
   "metadata": {},
   "source": [
    "      "
   ]
  },
  {
   "cell_type": "markdown",
   "metadata": {},
   "source": [
    "#### Accuracy Score of Random Forest = 91%"
   ]
  },
  {
   "cell_type": "markdown",
   "metadata": {},
   "source": [
    "   "
   ]
  },
  {
   "cell_type": "code",
   "execution_count": 93,
   "metadata": {},
   "outputs": [
    {
     "data": {
      "text/plain": [
       "Text(0, 0.5, 'Algorithm Score')"
      ]
     },
     "execution_count": 93,
     "metadata": {},
     "output_type": "execute_result"
    },
    {
     "data": {
      "image/png": "[encoded data removed]",
      "text/plain": [
       "<Figure size 720x720 with 1 Axes>"
      ]
     },
     "metadata": {
      "needs_background": "light"
     },
     "output_type": "display_data"
    }
   ],
   "source": [
    "plt.figure(figsize=(10,10))\n",
    "plt.ylim([0,1.5])\n",
    "plt.bar(prediction_model,prediction_score,width=0.5,color= ['orange'])\n",
    "plt.xlabel('Algorithm Name')\n",
    "plt.ylabel('Algorithm Score')"
   ]
  },
  {
   "cell_type": "markdown",
   "metadata": {},
   "source": [
    "## Individual Prediction of Models"
   ]
  },
  {
   "cell_type": "markdown",
   "metadata": {},
   "source": [
    "   "
   ]
  },
  {
   "cell_type": "markdown",
   "metadata": {},
   "source": [
    "### Decision Tree"
   ]
  },
  {
   "cell_type": "markdown",
   "metadata": {},
   "source": [
    "   "
   ]
  },
  {
   "cell_type": "code",
   "execution_count": 94,
   "metadata": {},
   "outputs": [
    {
     "data": {
      "image/png": "[encoded data removed]",
      "text/plain": [
       "<Figure size 432x288 with 1 Axes>"
      ]
     },
     "metadata": {},
     "output_type": "display_data"
    }
   ],
   "source": [
    "comp1=[14.7,267.9]                                                           #  (5% of X_test, score*X_test)\n",
    "l1=['Wrong','Correct']\n",
    "plt.pie(comp1,labels=l1,autopct='%0.1f%%',colors=['Brown','Orange'])\n",
    "plt.title('DECISION TREE PREDICTIONS')\n",
    "plt.show()"
   ]
  },
  {
   "cell_type": "markdown",
   "metadata": {},
   "source": [
    "   "
   ]
  },
  {
   "cell_type": "markdown",
   "metadata": {},
   "source": [
    "### Logistic Regression"
   ]
  },
  {
   "cell_type": "markdown",
   "metadata": {},
   "source": [
    "   "
   ]
  },
  {
   "cell_type": "code",
   "execution_count": 95,
   "metadata": {},
   "outputs": [
    {
     "data": {
      "image/png": "[encoded data removed]",
      "text/plain": [
       "<Figure size 432x288 with 1 Axes>"
      ]
     },
     "metadata": {},
     "output_type": "display_data"
    }
   ],
   "source": [
    "comp2=[29.4,254.9]                                                           #  (10% of X_test, score*X_test)\n",
    "l2=['Wrong','Correct']\n",
    "plt.pie(comp2,labels=l2,autopct='%0.1f%%',colors=['Brown','Orange'])\n",
    "plt.title('LOGISTIC REGRESSION PREDICTIONS')\n",
    "plt.show()"
   ]
  },
  {
   "cell_type": "markdown",
   "metadata": {},
   "source": [
    "   "
   ]
  },
  {
   "cell_type": "markdown",
   "metadata": {},
   "source": [
    "### KNN"
   ]
  },
  {
   "cell_type": "markdown",
   "metadata": {},
   "source": [
    "   "
   ]
  },
  {
   "cell_type": "code",
   "execution_count": 96,
   "metadata": {},
   "outputs": [
    {
     "data": {
      "image/png": "[encoded data removed]",
      "text/plain": [
       "<Figure size 432x288 with 1 Axes>"
      ]
     },
     "metadata": {},
     "output_type": "display_data"
    }
   ],
   "source": [
    "comp3=[8.8,252.9]                                                           #  (3% of X_test, score*X_test)\n",
    "l3=['Wrong','Correct']\n",
    "plt.pie(comp3,labels=l3,autopct='%0.1f%%',colors=['Brown','Orange'])\n",
    "plt.title('KNN')\n",
    "plt.show()"
   ]
  },
  {
   "cell_type": "markdown",
   "metadata": {},
   "source": [
    "   "
   ]
  },
  {
   "cell_type": "markdown",
   "metadata": {},
   "source": [
    "### SVM"
   ]
  },
  {
   "cell_type": "markdown",
   "metadata": {},
   "source": [
    "   "
   ]
  },
  {
   "cell_type": "code",
   "execution_count": 97,
   "metadata": {},
   "outputs": [
    {
     "data": {
      "image/png": "[encoded data removed]",
      "text/plain": [
       "<Figure size 432x288 with 1 Axes>"
      ]
     },
     "metadata": {},
     "output_type": "display_data"
    }
   ],
   "source": [
    "comp4=[38.2,251.9]                                                          #  (13% of X_test, score*X_test)\n",
    "l4=['Wrong','Correct']\n",
    "plt.pie(comp4,labels=l4,autopct='%0.1f%%',colors=['Brown','Orange'])\n",
    "plt.title('SVM PREDICTIONS')\n",
    "plt.show()"
   ]
  },
  {
   "cell_type": "markdown",
   "metadata": {},
   "source": [
    "   "
   ]
  },
  {
   "cell_type": "markdown",
   "metadata": {},
   "source": [
    "### Random Forest"
   ]
  },
  {
   "cell_type": "markdown",
   "metadata": {},
   "source": [
    "   "
   ]
  },
  {
   "cell_type": "code",
   "execution_count": 98,
   "metadata": {},
   "outputs": [
    {
     "data": {
      "image/png": "[encoded data removed]",
      "text/plain": [
       "<Figure size 432x288 with 1 Axes>"
      ]
     },
     "metadata": {},
     "output_type": "display_data"
    }
   ],
   "source": [
    "comp5=[20.5,268.9]                                                          #  (7% of X_test, score*X_test)\n",
    "l5=['Wrong','Correct']\n",
    "plt.pie(comp5,labels=l5,autopct='%0.1f%%',colors=['Brown','Orange'])\n",
    "plt.title('RANDOM FOREST PREDICTIONS')\n",
    "plt.show()"
   ]
  }
 ],
 "metadata": {
  "kernelspec": {
   "display_name": "Python 3",
   "language": "python",
   "name": "python3"
  },
  "language_info": {
   "codemirror_mode": {
    "name": "ipython",
    "version": 3
   },
   "file_extension": ".py",
   "mimetype": "text/x-python",
   "name": "python",
   "nbconvert_exporter": "python",
   "pygments_lexer": "ipython3",
   "version": "3.8.3"
  }
 },
 "nbformat": 4,
 "nbformat_minor": 4
}
